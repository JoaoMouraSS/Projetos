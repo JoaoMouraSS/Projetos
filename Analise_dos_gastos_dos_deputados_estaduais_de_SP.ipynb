{
  "nbformat": 4,
  "nbformat_minor": 0,
  "metadata": {
    "colab": {
      "provenance": [],
      "collapsed_sections": [],
      "authorship_tag": "ABX9TyORb86qyejyyV2UycX/9t2X",
      "include_colab_link": true
    },
    "kernelspec": {
      "name": "python3",
      "display_name": "Python 3"
    },
    "language_info": {
      "name": "python"
    }
  },
  "cells": [
    {
      "cell_type": "markdown",
      "metadata": {
        "id": "view-in-github",
        "colab_type": "text"
      },
      "source": [
        "<a href=\"https://colab.research.google.com/github/JoaoMouraSS/Projetos/blob/main/Analise_dos_gastos_dos_deputados_estaduais_de_SP.ipynb\" target=\"_parent\"><img src=\"https://colab.research.google.com/assets/colab-badge.svg\" alt=\"Open In Colab\"/></a>"
      ]
    },
    {
      "cell_type": "markdown",
      "source": [
        "# Introdução\n",
        "\n",
        "O seguinte projeto visa a análise exploratória dos gastos dos parlamentares do estado de São Paulo."
      ],
      "metadata": {
        "id": "yK8_KcxZ9ppo"
      }
    },
    {
      "cell_type": "markdown",
      "source": [
        "# *Fluxo do Projeto*\n",
        "\n",
        "\n",
        "1.   Etapa API – Criação de uma API para consumir dados públicos da ALEPS.\n",
        "2.   Etapa Ingestão – Transferir os dados para  framework Pandas.\n",
        "3.   Etapa Modelagem – Cruzar os dados de 2 fontes da API e criar uma análise de despesas de gastos.\n",
        "4.   Etapa Armazenar – Criar um banco de dados e fazer a ingestão dos dados para futuras consultas.\n",
        "5.   Analisar os Dados – Utilizar frameworks de Data Visualization para entender o que contem nos dados\n",
        "\n"
      ],
      "metadata": {
        "id": "lco9EykR9gmp"
      }
    },
    {
      "cell_type": "code",
      "source": [
        "# Consumir a api\n",
        "import requests\n",
        "\n",
        "# Ajustar os dados\n",
        "import numpy as np\n",
        "import pandas as pd\n",
        "\n",
        "# Gerar gráficos\n",
        "import matplotlib.pyplot as plt\n",
        "import plotly.express as px\n",
        "\n",
        "# Ignorar filtros\n",
        "from warnings import filterwarnings\n",
        "filterwarnings('ignore')"
      ],
      "metadata": {
        "id": "pZK85OQk-EYq"
      },
      "execution_count": 2,
      "outputs": []
    },
    {
      "cell_type": "markdown",
      "source": [
        "# *Consumindo a api*"
      ],
      "metadata": {
        "id": "BrWbCr2SAgRd"
      }
    },
    {
      "cell_type": "code",
      "source": [
        "# Links\n",
        "despesas = 'http://www.al.sp.gov.br/repositorioDados/deputados/despesas_gabinetes.xml'\n",
        "cadastro = 'https://www.al.sp.gov.br/repositorioDados/deputados/deputados.xml'\n",
        "\n",
        "# Pegando as informações\n",
        "dados_despesas = requests.get(despesas)\n",
        "dados_cadastro = requests.get(cadastro)\n",
        "\n",
        "# Verificando o retorno da api\n",
        "print(dados_despesas, dados_cadastro)"
      ],
      "metadata": {
        "colab": {
          "base_uri": "https://localhost:8080/"
        },
        "id": "YO8HdxGLAeH7",
        "outputId": "7f9ea4a4-0155-4b00-f834-106949a32c36"
      },
      "execution_count": 3,
      "outputs": [
        {
          "output_type": "stream",
          "name": "stdout",
          "text": [
            "<Response [200]> <Response [200]>\n"
          ]
        }
      ]
    },
    {
      "cell_type": "markdown",
      "source": [
        "# *Transformando para o objeto pd.dataframe e fazendo alterações*"
      ],
      "metadata": {
        "id": "vIsnTjFfC1yi"
      }
    },
    {
      "cell_type": "code",
      "source": [
        "# Convertendo os dados para um dataframe\n",
        "df_despesas = pd.read_xml(dados_despesas.content)\n",
        "df_cadastro = pd.read_xml(dados_cadastro.content)"
      ],
      "metadata": {
        "id": "2qAQ5ylJBrr1"
      },
      "execution_count": 5,
      "outputs": []
    },
    {
      "cell_type": "markdown",
      "source": [
        "# *Modelando os dados*"
      ],
      "metadata": {
        "id": "YtN101R3HEPI"
      }
    },
    {
      "cell_type": "code",
      "source": [
        "# Removendo colunas desnecessárias\n",
        "df_despesas = df_despesas[['Ano','Matricula','Valor']]\n",
        "df_cadastro = df_cadastro[['Matricula','Partido','NomeParlamentar']]\n",
        "\n",
        "filtro = df_despesas.loc[(df_despesas['Ano']>=2019)]\n",
        "\n",
        "# Agrupar o valor gasto de cada deputado por ano\n",
        "analise = filtro.groupby(by = ['Ano', 'Matricula']).sum()['Valor'].reset_index()\n",
        "analise = analise.pivot(index='Matricula',columns='Ano',values='Valor')\n",
        "analise = analise.dropna()\n",
        "analise\n",
        "\n",
        "# Fazer o cruzamento dos dados entre as tabelas\n",
        "df_analise = pd.merge(analise,df_cadastro,how='inner',on='Matricula')\n",
        "df_analise"
      ],
      "metadata": {
        "colab": {
          "base_uri": "https://localhost:8080/",
          "height": 424
        },
        "id": "cNRasvWLCg7n",
        "outputId": "45a23efa-7436-477b-c318-b3b3d1a1e670"
      },
      "execution_count": 24,
      "outputs": [
        {
          "output_type": "execute_result",
          "data": {
            "text/plain": [
              "    Matricula       2019       2020       2021       2022       Partido  \\\n",
              "0      300098  253434.48  291386.79  322863.63  231948.74          PSDB   \n",
              "1      300188  237587.17  247384.14  300364.14  222276.53          PSDB   \n",
              "2      300205  102936.63  126638.83   84064.04   59692.71            PL   \n",
              "3      300217  302073.11  303710.00  370183.68  243565.81        AVANTE   \n",
              "4      300260  139872.47  125206.46  144298.34   92577.75        AVANTE   \n",
              "..        ...        ...        ...        ...        ...           ...   \n",
              "82     300646  154261.19  236119.84  333694.06  275150.47            PL   \n",
              "83     300647  173487.95  167221.22  210208.62  152804.17  REPUBLICANOS   \n",
              "84     300648  220277.05  234087.89  269953.47  247932.64            PL   \n",
              "85     300649  103766.46  210226.82  287744.27  180627.52            PL   \n",
              "86     300650   55020.98   95947.28  180271.28  153701.71     CIDADANIA   \n",
              "\n",
              "       NomeParlamentar  \n",
              "0        Mauro Bragato  \n",
              "1        Barros Munhoz  \n",
              "2          Conte Lopes  \n",
              "3       Campos Machado  \n",
              "4       Roque Barbiere  \n",
              "..                 ...  \n",
              "82     Tenente Coimbra  \n",
              "83  Tenente Nascimento  \n",
              "84    Thiago Auricchio  \n",
              "85   Valeria Bolsonaro  \n",
              "86       Dirceu Dalben  \n",
              "\n",
              "[87 rows x 7 columns]"
            ],
            "text/html": [
              "\n",
              "  <div id=\"df-085e8c1f-f9bb-4c8d-a74c-41abae31dad4\">\n",
              "    <div class=\"colab-df-container\">\n",
              "      <div>\n",
              "<style scoped>\n",
              "    .dataframe tbody tr th:only-of-type {\n",
              "        vertical-align: middle;\n",
              "    }\n",
              "\n",
              "    .dataframe tbody tr th {\n",
              "        vertical-align: top;\n",
              "    }\n",
              "\n",
              "    .dataframe thead th {\n",
              "        text-align: right;\n",
              "    }\n",
              "</style>\n",
              "<table border=\"1\" class=\"dataframe\">\n",
              "  <thead>\n",
              "    <tr style=\"text-align: right;\">\n",
              "      <th></th>\n",
              "      <th>Matricula</th>\n",
              "      <th>2019</th>\n",
              "      <th>2020</th>\n",
              "      <th>2021</th>\n",
              "      <th>2022</th>\n",
              "      <th>Partido</th>\n",
              "      <th>NomeParlamentar</th>\n",
              "    </tr>\n",
              "  </thead>\n",
              "  <tbody>\n",
              "    <tr>\n",
              "      <th>0</th>\n",
              "      <td>300098</td>\n",
              "      <td>253434.48</td>\n",
              "      <td>291386.79</td>\n",
              "      <td>322863.63</td>\n",
              "      <td>231948.74</td>\n",
              "      <td>PSDB</td>\n",
              "      <td>Mauro Bragato</td>\n",
              "    </tr>\n",
              "    <tr>\n",
              "      <th>1</th>\n",
              "      <td>300188</td>\n",
              "      <td>237587.17</td>\n",
              "      <td>247384.14</td>\n",
              "      <td>300364.14</td>\n",
              "      <td>222276.53</td>\n",
              "      <td>PSDB</td>\n",
              "      <td>Barros Munhoz</td>\n",
              "    </tr>\n",
              "    <tr>\n",
              "      <th>2</th>\n",
              "      <td>300205</td>\n",
              "      <td>102936.63</td>\n",
              "      <td>126638.83</td>\n",
              "      <td>84064.04</td>\n",
              "      <td>59692.71</td>\n",
              "      <td>PL</td>\n",
              "      <td>Conte Lopes</td>\n",
              "    </tr>\n",
              "    <tr>\n",
              "      <th>3</th>\n",
              "      <td>300217</td>\n",
              "      <td>302073.11</td>\n",
              "      <td>303710.00</td>\n",
              "      <td>370183.68</td>\n",
              "      <td>243565.81</td>\n",
              "      <td>AVANTE</td>\n",
              "      <td>Campos Machado</td>\n",
              "    </tr>\n",
              "    <tr>\n",
              "      <th>4</th>\n",
              "      <td>300260</td>\n",
              "      <td>139872.47</td>\n",
              "      <td>125206.46</td>\n",
              "      <td>144298.34</td>\n",
              "      <td>92577.75</td>\n",
              "      <td>AVANTE</td>\n",
              "      <td>Roque Barbiere</td>\n",
              "    </tr>\n",
              "    <tr>\n",
              "      <th>...</th>\n",
              "      <td>...</td>\n",
              "      <td>...</td>\n",
              "      <td>...</td>\n",
              "      <td>...</td>\n",
              "      <td>...</td>\n",
              "      <td>...</td>\n",
              "      <td>...</td>\n",
              "    </tr>\n",
              "    <tr>\n",
              "      <th>82</th>\n",
              "      <td>300646</td>\n",
              "      <td>154261.19</td>\n",
              "      <td>236119.84</td>\n",
              "      <td>333694.06</td>\n",
              "      <td>275150.47</td>\n",
              "      <td>PL</td>\n",
              "      <td>Tenente Coimbra</td>\n",
              "    </tr>\n",
              "    <tr>\n",
              "      <th>83</th>\n",
              "      <td>300647</td>\n",
              "      <td>173487.95</td>\n",
              "      <td>167221.22</td>\n",
              "      <td>210208.62</td>\n",
              "      <td>152804.17</td>\n",
              "      <td>REPUBLICANOS</td>\n",
              "      <td>Tenente Nascimento</td>\n",
              "    </tr>\n",
              "    <tr>\n",
              "      <th>84</th>\n",
              "      <td>300648</td>\n",
              "      <td>220277.05</td>\n",
              "      <td>234087.89</td>\n",
              "      <td>269953.47</td>\n",
              "      <td>247932.64</td>\n",
              "      <td>PL</td>\n",
              "      <td>Thiago Auricchio</td>\n",
              "    </tr>\n",
              "    <tr>\n",
              "      <th>85</th>\n",
              "      <td>300649</td>\n",
              "      <td>103766.46</td>\n",
              "      <td>210226.82</td>\n",
              "      <td>287744.27</td>\n",
              "      <td>180627.52</td>\n",
              "      <td>PL</td>\n",
              "      <td>Valeria Bolsonaro</td>\n",
              "    </tr>\n",
              "    <tr>\n",
              "      <th>86</th>\n",
              "      <td>300650</td>\n",
              "      <td>55020.98</td>\n",
              "      <td>95947.28</td>\n",
              "      <td>180271.28</td>\n",
              "      <td>153701.71</td>\n",
              "      <td>CIDADANIA</td>\n",
              "      <td>Dirceu Dalben</td>\n",
              "    </tr>\n",
              "  </tbody>\n",
              "</table>\n",
              "<p>87 rows × 7 columns</p>\n",
              "</div>\n",
              "      <button class=\"colab-df-convert\" onclick=\"convertToInteractive('df-085e8c1f-f9bb-4c8d-a74c-41abae31dad4')\"\n",
              "              title=\"Convert this dataframe to an interactive table.\"\n",
              "              style=\"display:none;\">\n",
              "        \n",
              "  <svg xmlns=\"http://www.w3.org/2000/svg\" height=\"24px\"viewBox=\"0 0 24 24\"\n",
              "       width=\"24px\">\n",
              "    <path d=\"M0 0h24v24H0V0z\" fill=\"none\"/>\n",
              "    <path d=\"M18.56 5.44l.94 2.06.94-2.06 2.06-.94-2.06-.94-.94-2.06-.94 2.06-2.06.94zm-11 1L8.5 8.5l.94-2.06 2.06-.94-2.06-.94L8.5 2.5l-.94 2.06-2.06.94zm10 10l.94 2.06.94-2.06 2.06-.94-2.06-.94-.94-2.06-.94 2.06-2.06.94z\"/><path d=\"M17.41 7.96l-1.37-1.37c-.4-.4-.92-.59-1.43-.59-.52 0-1.04.2-1.43.59L10.3 9.45l-7.72 7.72c-.78.78-.78 2.05 0 2.83L4 21.41c.39.39.9.59 1.41.59.51 0 1.02-.2 1.41-.59l7.78-7.78 2.81-2.81c.8-.78.8-2.07 0-2.86zM5.41 20L4 18.59l7.72-7.72 1.47 1.35L5.41 20z\"/>\n",
              "  </svg>\n",
              "      </button>\n",
              "      \n",
              "  <style>\n",
              "    .colab-df-container {\n",
              "      display:flex;\n",
              "      flex-wrap:wrap;\n",
              "      gap: 12px;\n",
              "    }\n",
              "\n",
              "    .colab-df-convert {\n",
              "      background-color: #E8F0FE;\n",
              "      border: none;\n",
              "      border-radius: 50%;\n",
              "      cursor: pointer;\n",
              "      display: none;\n",
              "      fill: #1967D2;\n",
              "      height: 32px;\n",
              "      padding: 0 0 0 0;\n",
              "      width: 32px;\n",
              "    }\n",
              "\n",
              "    .colab-df-convert:hover {\n",
              "      background-color: #E2EBFA;\n",
              "      box-shadow: 0px 1px 2px rgba(60, 64, 67, 0.3), 0px 1px 3px 1px rgba(60, 64, 67, 0.15);\n",
              "      fill: #174EA6;\n",
              "    }\n",
              "\n",
              "    [theme=dark] .colab-df-convert {\n",
              "      background-color: #3B4455;\n",
              "      fill: #D2E3FC;\n",
              "    }\n",
              "\n",
              "    [theme=dark] .colab-df-convert:hover {\n",
              "      background-color: #434B5C;\n",
              "      box-shadow: 0px 1px 3px 1px rgba(0, 0, 0, 0.15);\n",
              "      filter: drop-shadow(0px 1px 2px rgba(0, 0, 0, 0.3));\n",
              "      fill: #FFFFFF;\n",
              "    }\n",
              "  </style>\n",
              "\n",
              "      <script>\n",
              "        const buttonEl =\n",
              "          document.querySelector('#df-085e8c1f-f9bb-4c8d-a74c-41abae31dad4 button.colab-df-convert');\n",
              "        buttonEl.style.display =\n",
              "          google.colab.kernel.accessAllowed ? 'block' : 'none';\n",
              "\n",
              "        async function convertToInteractive(key) {\n",
              "          const element = document.querySelector('#df-085e8c1f-f9bb-4c8d-a74c-41abae31dad4');\n",
              "          const dataTable =\n",
              "            await google.colab.kernel.invokeFunction('convertToInteractive',\n",
              "                                                     [key], {});\n",
              "          if (!dataTable) return;\n",
              "\n",
              "          const docLinkHtml = 'Like what you see? Visit the ' +\n",
              "            '<a target=\"_blank\" href=https://colab.research.google.com/notebooks/data_table.ipynb>data table notebook</a>'\n",
              "            + ' to learn more about interactive tables.';\n",
              "          element.innerHTML = '';\n",
              "          dataTable['output_type'] = 'display_data';\n",
              "          await google.colab.output.renderOutput(dataTable, element);\n",
              "          const docLink = document.createElement('div');\n",
              "          docLink.innerHTML = docLinkHtml;\n",
              "          element.appendChild(docLink);\n",
              "        }\n",
              "      </script>\n",
              "    </div>\n",
              "  </div>\n",
              "  "
            ]
          },
          "metadata": {},
          "execution_count": 24
        }
      ]
    },
    {
      "cell_type": "code",
      "source": [],
      "metadata": {
        "id": "vKM4U8aPDzMK"
      },
      "execution_count": null,
      "outputs": []
    },
    {
      "cell_type": "code",
      "source": [],
      "metadata": {
        "id": "2BQj0Qc8Fh41"
      },
      "execution_count": null,
      "outputs": []
    }
  ]
}