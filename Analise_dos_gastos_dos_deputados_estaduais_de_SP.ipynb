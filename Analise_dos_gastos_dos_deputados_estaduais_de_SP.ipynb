{
  "nbformat": 4,
  "nbformat_minor": 0,
  "metadata": {
    "colab": {
      "provenance": [],
      "collapsed_sections": [],
      "authorship_tag": "ABX9TyOB2t6THbMeVJNlz0eFui50",
      "include_colab_link": true
    },
    "kernelspec": {
      "name": "python3",
      "display_name": "Python 3"
    },
    "language_info": {
      "name": "python"
    }
  },
  "cells": [
    {
      "cell_type": "markdown",
      "metadata": {
        "id": "view-in-github",
        "colab_type": "text"
      },
      "source": [
        "<a href=\"https://colab.research.google.com/github/JoaoMouraSS/Projetos/blob/main/Analise_dos_gastos_dos_deputados_estaduais_de_SP.ipynb\" target=\"_parent\"><img src=\"https://colab.research.google.com/assets/colab-badge.svg\" alt=\"Open In Colab\"/></a>"
      ]
    },
    {
      "cell_type": "markdown",
      "source": [
        "# Introdução\n",
        "\n",
        "O seguinte projeto visa a análise exploratória dos gastos dos parlamentares do estado de São Paulo."
      ],
      "metadata": {
        "id": "yK8_KcxZ9ppo"
      }
    },
    {
      "cell_type": "markdown",
      "source": [
        "# *Fluxo do Projeto*\n",
        "\n",
        "\n",
        "1.   Etapa API – Criação de uma API para consumir dados públicos da ALEPS.\n",
        "2.   Etapa Ingestão – Transferir os dados para  framework Pandas.\n",
        "3.   Etapa Modelagem – Cruzar os dados de 2 fontes da API e criar uma análise de despesas de gastos.\n",
        "4.   Etapa Armazenar – Criar um banco de dados e fazer a ingestão dos dados para futuras consultas.\n",
        "5.   Analisar os Dados – Utilizar frameworks de Data Visualization para entender o que contem nos dados\n",
        "\n"
      ],
      "metadata": {
        "id": "lco9EykR9gmp"
      }
    },
    {
      "cell_type": "code",
      "source": [
        "# Consumir a api\n",
        "import requests\n",
        "\n",
        "# Ajustar os dados\n",
        "import numpy as np\n",
        "import pandas as pd\n",
        "\n",
        "# Armazenar os dados\n",
        "import sqlite3\n",
        "\n",
        "# Gerar gráficos\n",
        "import matplotlib.pyplot as plt\n",
        "import seaborn as sns\n",
        "import plotly.express as px\n",
        "\n",
        "# Ignorar filtros\n",
        "from warnings import filterwarnings\n",
        "filterwarnings('ignore')"
      ],
      "metadata": {
        "id": "pZK85OQk-EYq"
      },
      "execution_count": 1,
      "outputs": []
    },
    {
      "cell_type": "markdown",
      "source": [
        "# *Consumindo a api*"
      ],
      "metadata": {
        "id": "BrWbCr2SAgRd"
      }
    },
    {
      "cell_type": "code",
      "source": [
        "# Links\n",
        "despesas = 'http://www.al.sp.gov.br/repositorioDados/deputados/despesas_gabinetes.xml'\n",
        "cadastro = 'https://www.al.sp.gov.br/repositorioDados/deputados/deputados.xml'\n",
        "\n",
        "# Pegando as informações\n",
        "dados_despesas = requests.get(despesas)\n",
        "dados_cadastro = requests.get(cadastro)\n",
        "\n",
        "# Verificando o retorno da api\n",
        "print(dados_despesas, dados_cadastro)"
      ],
      "metadata": {
        "id": "YO8HdxGLAeH7"
      },
      "execution_count": null,
      "outputs": []
    },
    {
      "cell_type": "markdown",
      "source": [
        "# *Transformando para o objeto pd.dataframe e fazendo alterações*"
      ],
      "metadata": {
        "id": "vIsnTjFfC1yi"
      }
    },
    {
      "cell_type": "code",
      "source": [
        "# Convertendo os dados para um dataframe\n",
        "df_despesas = pd.read_xml(dados_despesas.content)\n",
        "df_cadastro = pd.read_xml(dados_cadastro.content)"
      ],
      "metadata": {
        "id": "2qAQ5ylJBrr1"
      },
      "execution_count": 3,
      "outputs": []
    },
    {
      "cell_type": "markdown",
      "source": [
        "# *Modelando os dados*"
      ],
      "metadata": {
        "id": "YtN101R3HEPI"
      }
    },
    {
      "cell_type": "code",
      "source": [
        "# Removendo colunas desnecessárias\n",
        "df_despesas = df_despesas[['Ano','Matricula','Valor']]\n",
        "df_cadastro = df_cadastro[['Matricula','Partido','NomeParlamentar']]\n",
        "\n",
        "filtro = df_despesas.loc[(df_despesas['Ano']>=2019)]\n",
        "\n",
        "# Agrupar o valor gasto de cada deputado por ano\n",
        "analise = filtro.groupby(by = ['Ano', 'Matricula']).sum()['Valor'].reset_index()\n",
        "analise = analise.pivot(index='Matricula',columns='Ano',values='Valor')\n",
        "analise = analise.dropna()\n",
        "\n",
        "# Fazer o cruzamento dos dados entre as tabelas\n",
        "df_analise = pd.merge(analise,df_cadastro,how='inner',on='Matricula')"
      ],
      "metadata": {
        "id": "cNRasvWLCg7n"
      },
      "execution_count": null,
      "outputs": []
    },
    {
      "cell_type": "markdown",
      "source": [
        "# *Armazenando os dados*"
      ],
      "metadata": {
        "id": "c_Ktl4aYqkbd"
      }
    },
    {
      "cell_type": "code",
      "source": [
        "# Criando o arquivo do banco de dados\n",
        "banco = sqlite3.connect('banco')\n",
        "\n",
        "# Criando um cursor\n",
        "curso_banco = banco.cursor()\n",
        "\n",
        "# Criando a tabela\n",
        "tabela1 = curso_banco.execute('create table Dados (Matricula,Gastos_2019,Gastos_2020,Gastos_2021, Gastos_2022)')\n",
        "\n",
        "# Enviando o comando\n",
        "banco.commit()\n",
        "\n",
        "# Adicionando dados para o banco de dados\n",
        "for i in df_analise.values:\n",
        "  curso_banco.execute(f'insert into Dados values ({i[0]},{i[1]},{i[2]},{i[3]},{i[4]})')\n",
        "\n",
        "# Consultando os valores do banco de dados\n",
        "curso_banco.execute('select * from Dados').fetchall()"
      ],
      "metadata": {
        "id": "vKM4U8aPDzMK"
      },
      "execution_count": 5,
      "outputs": []
    },
    {
      "cell_type": "markdown",
      "source": [
        "# *Visualizando os dados*"
      ],
      "metadata": {
        "id": "YCsRcyW_yTEI"
      }
    },
    {
      "cell_type": "markdown",
      "source": [
        "### *Gráfico utilizando o Matplot Lib*"
      ],
      "metadata": {
        "id": "X4EzR67MykRN"
      }
    },
    {
      "cell_type": "code",
      "source": [
        "despesas_por_ano = (df_despesas.groupby(by=['Ano']).sum()['Valor']/1000000).reset_index()\n",
        "despesas_por_ano"
      ],
      "metadata": {
        "colab": {
          "base_uri": "https://localhost:8080/",
          "height": 708
        },
        "id": "U3oPOmh1zVQL",
        "outputId": "0d984186-c71d-4c40-b788-efc303f5f4d1"
      },
      "execution_count": 54,
      "outputs": [
        {
          "output_type": "execute_result",
          "data": {
            "text/plain": [
              "     Ano      Valor\n",
              "0   2002  11.122821\n",
              "1   2003  15.834964\n",
              "2   2004  17.248832\n",
              "3   2005  18.151571\n",
              "4   2006  18.397376\n",
              "5   2007  18.390011\n",
              "6   2008  17.808751\n",
              "7   2009  19.692012\n",
              "8   2010  18.361598\n",
              "9   2011  18.666882\n",
              "10  2012  19.250087\n",
              "11  2013  21.996183\n",
              "12  2014  19.793197\n",
              "13  2015  20.847303\n",
              "14  2016  22.844787\n",
              "15  2017  23.408257\n",
              "16  2018  21.805728\n",
              "17  2019  19.437856\n",
              "18  2020  16.949850\n",
              "19  2021  21.751098\n",
              "20  2022  15.901226"
            ],
            "text/html": [
              "\n",
              "  <div id=\"df-08423f7a-2dbd-4007-b8da-e1a3bffa4328\">\n",
              "    <div class=\"colab-df-container\">\n",
              "      <div>\n",
              "<style scoped>\n",
              "    .dataframe tbody tr th:only-of-type {\n",
              "        vertical-align: middle;\n",
              "    }\n",
              "\n",
              "    .dataframe tbody tr th {\n",
              "        vertical-align: top;\n",
              "    }\n",
              "\n",
              "    .dataframe thead th {\n",
              "        text-align: right;\n",
              "    }\n",
              "</style>\n",
              "<table border=\"1\" class=\"dataframe\">\n",
              "  <thead>\n",
              "    <tr style=\"text-align: right;\">\n",
              "      <th></th>\n",
              "      <th>Ano</th>\n",
              "      <th>Valor</th>\n",
              "    </tr>\n",
              "  </thead>\n",
              "  <tbody>\n",
              "    <tr>\n",
              "      <th>0</th>\n",
              "      <td>2002</td>\n",
              "      <td>11.122821</td>\n",
              "    </tr>\n",
              "    <tr>\n",
              "      <th>1</th>\n",
              "      <td>2003</td>\n",
              "      <td>15.834964</td>\n",
              "    </tr>\n",
              "    <tr>\n",
              "      <th>2</th>\n",
              "      <td>2004</td>\n",
              "      <td>17.248832</td>\n",
              "    </tr>\n",
              "    <tr>\n",
              "      <th>3</th>\n",
              "      <td>2005</td>\n",
              "      <td>18.151571</td>\n",
              "    </tr>\n",
              "    <tr>\n",
              "      <th>4</th>\n",
              "      <td>2006</td>\n",
              "      <td>18.397376</td>\n",
              "    </tr>\n",
              "    <tr>\n",
              "      <th>5</th>\n",
              "      <td>2007</td>\n",
              "      <td>18.390011</td>\n",
              "    </tr>\n",
              "    <tr>\n",
              "      <th>6</th>\n",
              "      <td>2008</td>\n",
              "      <td>17.808751</td>\n",
              "    </tr>\n",
              "    <tr>\n",
              "      <th>7</th>\n",
              "      <td>2009</td>\n",
              "      <td>19.692012</td>\n",
              "    </tr>\n",
              "    <tr>\n",
              "      <th>8</th>\n",
              "      <td>2010</td>\n",
              "      <td>18.361598</td>\n",
              "    </tr>\n",
              "    <tr>\n",
              "      <th>9</th>\n",
              "      <td>2011</td>\n",
              "      <td>18.666882</td>\n",
              "    </tr>\n",
              "    <tr>\n",
              "      <th>10</th>\n",
              "      <td>2012</td>\n",
              "      <td>19.250087</td>\n",
              "    </tr>\n",
              "    <tr>\n",
              "      <th>11</th>\n",
              "      <td>2013</td>\n",
              "      <td>21.996183</td>\n",
              "    </tr>\n",
              "    <tr>\n",
              "      <th>12</th>\n",
              "      <td>2014</td>\n",
              "      <td>19.793197</td>\n",
              "    </tr>\n",
              "    <tr>\n",
              "      <th>13</th>\n",
              "      <td>2015</td>\n",
              "      <td>20.847303</td>\n",
              "    </tr>\n",
              "    <tr>\n",
              "      <th>14</th>\n",
              "      <td>2016</td>\n",
              "      <td>22.844787</td>\n",
              "    </tr>\n",
              "    <tr>\n",
              "      <th>15</th>\n",
              "      <td>2017</td>\n",
              "      <td>23.408257</td>\n",
              "    </tr>\n",
              "    <tr>\n",
              "      <th>16</th>\n",
              "      <td>2018</td>\n",
              "      <td>21.805728</td>\n",
              "    </tr>\n",
              "    <tr>\n",
              "      <th>17</th>\n",
              "      <td>2019</td>\n",
              "      <td>19.437856</td>\n",
              "    </tr>\n",
              "    <tr>\n",
              "      <th>18</th>\n",
              "      <td>2020</td>\n",
              "      <td>16.949850</td>\n",
              "    </tr>\n",
              "    <tr>\n",
              "      <th>19</th>\n",
              "      <td>2021</td>\n",
              "      <td>21.751098</td>\n",
              "    </tr>\n",
              "    <tr>\n",
              "      <th>20</th>\n",
              "      <td>2022</td>\n",
              "      <td>15.901226</td>\n",
              "    </tr>\n",
              "  </tbody>\n",
              "</table>\n",
              "</div>\n",
              "      <button class=\"colab-df-convert\" onclick=\"convertToInteractive('df-08423f7a-2dbd-4007-b8da-e1a3bffa4328')\"\n",
              "              title=\"Convert this dataframe to an interactive table.\"\n",
              "              style=\"display:none;\">\n",
              "        \n",
              "  <svg xmlns=\"http://www.w3.org/2000/svg\" height=\"24px\"viewBox=\"0 0 24 24\"\n",
              "       width=\"24px\">\n",
              "    <path d=\"M0 0h24v24H0V0z\" fill=\"none\"/>\n",
              "    <path d=\"M18.56 5.44l.94 2.06.94-2.06 2.06-.94-2.06-.94-.94-2.06-.94 2.06-2.06.94zm-11 1L8.5 8.5l.94-2.06 2.06-.94-2.06-.94L8.5 2.5l-.94 2.06-2.06.94zm10 10l.94 2.06.94-2.06 2.06-.94-2.06-.94-.94-2.06-.94 2.06-2.06.94z\"/><path d=\"M17.41 7.96l-1.37-1.37c-.4-.4-.92-.59-1.43-.59-.52 0-1.04.2-1.43.59L10.3 9.45l-7.72 7.72c-.78.78-.78 2.05 0 2.83L4 21.41c.39.39.9.59 1.41.59.51 0 1.02-.2 1.41-.59l7.78-7.78 2.81-2.81c.8-.78.8-2.07 0-2.86zM5.41 20L4 18.59l7.72-7.72 1.47 1.35L5.41 20z\"/>\n",
              "  </svg>\n",
              "      </button>\n",
              "      \n",
              "  <style>\n",
              "    .colab-df-container {\n",
              "      display:flex;\n",
              "      flex-wrap:wrap;\n",
              "      gap: 12px;\n",
              "    }\n",
              "\n",
              "    .colab-df-convert {\n",
              "      background-color: #E8F0FE;\n",
              "      border: none;\n",
              "      border-radius: 50%;\n",
              "      cursor: pointer;\n",
              "      display: none;\n",
              "      fill: #1967D2;\n",
              "      height: 32px;\n",
              "      padding: 0 0 0 0;\n",
              "      width: 32px;\n",
              "    }\n",
              "\n",
              "    .colab-df-convert:hover {\n",
              "      background-color: #E2EBFA;\n",
              "      box-shadow: 0px 1px 2px rgba(60, 64, 67, 0.3), 0px 1px 3px 1px rgba(60, 64, 67, 0.15);\n",
              "      fill: #174EA6;\n",
              "    }\n",
              "\n",
              "    [theme=dark] .colab-df-convert {\n",
              "      background-color: #3B4455;\n",
              "      fill: #D2E3FC;\n",
              "    }\n",
              "\n",
              "    [theme=dark] .colab-df-convert:hover {\n",
              "      background-color: #434B5C;\n",
              "      box-shadow: 0px 1px 3px 1px rgba(0, 0, 0, 0.15);\n",
              "      filter: drop-shadow(0px 1px 2px rgba(0, 0, 0, 0.3));\n",
              "      fill: #FFFFFF;\n",
              "    }\n",
              "  </style>\n",
              "\n",
              "      <script>\n",
              "        const buttonEl =\n",
              "          document.querySelector('#df-08423f7a-2dbd-4007-b8da-e1a3bffa4328 button.colab-df-convert');\n",
              "        buttonEl.style.display =\n",
              "          google.colab.kernel.accessAllowed ? 'block' : 'none';\n",
              "\n",
              "        async function convertToInteractive(key) {\n",
              "          const element = document.querySelector('#df-08423f7a-2dbd-4007-b8da-e1a3bffa4328');\n",
              "          const dataTable =\n",
              "            await google.colab.kernel.invokeFunction('convertToInteractive',\n",
              "                                                     [key], {});\n",
              "          if (!dataTable) return;\n",
              "\n",
              "          const docLinkHtml = 'Like what you see? Visit the ' +\n",
              "            '<a target=\"_blank\" href=https://colab.research.google.com/notebooks/data_table.ipynb>data table notebook</a>'\n",
              "            + ' to learn more about interactive tables.';\n",
              "          element.innerHTML = '';\n",
              "          dataTable['output_type'] = 'display_data';\n",
              "          await google.colab.output.renderOutput(dataTable, element);\n",
              "          const docLink = document.createElement('div');\n",
              "          docLink.innerHTML = docLinkHtml;\n",
              "          element.appendChild(docLink);\n",
              "        }\n",
              "      </script>\n",
              "    </div>\n",
              "  </div>\n",
              "  "
            ]
          },
          "metadata": {},
          "execution_count": 54
        }
      ]
    },
    {
      "cell_type": "code",
      "source": [
        "# Configurando a área do gráfico \n",
        "plt.figure(figsize=(18,8))\n",
        "\n",
        "# Criando o gráfico\n",
        "plt.bar( despesas_por_ano['Ano'], despesas_por_ano['Valor'], width=0.7, color='#6A5ACD')\n",
        "\n",
        "#Ajustes\n",
        "plt.title('Despesas dos deputados de São Paulo entre os anos de 2002 até 2022', loc='left', fontsize = 16, fontweight='500')\n",
        "plt.style.use('ggplot')\n",
        "\n",
        "# Adcionando valores as colunas\n",
        "for i,j in enumerate(despesas_por_ano['Valor']):\n",
        "  x = round(j,1)\n",
        "  valores = str(x)+'mi'\n",
        "  plt.text(x =despesas_por_ano['Ano'][i]-0.4,y = despesas_por_ano['Valor'][i]+0.5,s=valores, size = 'small')\n",
        "\n",
        "# \"Printando\" o gráfico\n",
        "plt.show()"
      ],
      "metadata": {
        "id": "2BQj0Qc8Fh41",
        "colab": {
          "base_uri": "https://localhost:8080/",
          "height": 502
        },
        "outputId": "33c2be3f-f4eb-46af-f5e5-01d1bfe3eca4"
      },
      "execution_count": 56,
      "outputs": [
        {
          "output_type": "display_data",
          "data": {
            "text/plain": [
              "<Figure size 1296x576 with 1 Axes>"
            ],
            "image/png": "[encoded data removed]"
          },
          "metadata": {}
        }
      ]
    },
    {
      "cell_type": "code",
      "source": [],
      "metadata": {
        "id": "1epagWrPy2YJ"
      },
      "execution_count": null,
      "outputs": []
    }
  ]
}