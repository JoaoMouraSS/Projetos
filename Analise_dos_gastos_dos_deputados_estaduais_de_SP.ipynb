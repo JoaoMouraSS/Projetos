{
  "cells": [
    {
      "cell_type": "markdown",
      "metadata": {
        "id": "view-in-github",
        "colab_type": "text"
      },
      "source": [
        "<a href=\"https://colab.research.google.com/github/JoaoMouraSS/Projetos/blob/main/Analise_dos_gastos_dos_deputados_estaduais_de_SP.ipynb\" target=\"_parent\"><img src=\"https://colab.research.google.com/assets/colab-badge.svg\" alt=\"Open In Colab\"/></a>"
      ]
    },
    {
      "cell_type": "markdown",
      "metadata": {
        "id": "yK8_KcxZ9ppo"
      },
      "source": [
        "# Introdução\n",
        "\n",
        "O seguinte projeto visa a análise exploratória dos gastos dos parlamentares do estado de São Paulo.\n",
        "\n",
        "## Fonte dos dados: \n",
        "https://www.al.sp.gov.br/dados-abertos/grupo/21;jsessionid=D351122785BD9D1FF13FCEE28C963181"
      ]
    },
    {
      "cell_type": "markdown",
      "metadata": {
        "id": "lco9EykR9gmp"
      },
      "source": [
        "# *Fluxo do Projeto*\n",
        "\n",
        "\n",
        "1.   Etapa API – Criação de uma API para consumir dados públicos da ALEPS.\n",
        "2.   Etapa Ingestão – Transferir os dados para  framework Pandas.\n",
        "3.   Etapa Modelagem – Cruzar os dados de 2 fontes da API e criar uma análise de despesas de gastos.\n",
        "4.   Etapa Armazenar – Criar um banco de dados e fazer a ingestão dos dados para futuras consultas.\n",
        "5.   Analisar os Dados – Utilizar frameworks de Data Visualization para entender o que contem nos dados\n",
        "\n"
      ]
    },
    {
      "cell_type": "code",
      "execution_count": 1,
      "metadata": {
        "id": "pZK85OQk-EYq"
      },
      "outputs": [],
      "source": [
        "# Consumir a api\n",
        "import requests\n",
        "\n",
        "# Ajustar os dados\n",
        "import numpy as np\n",
        "import pandas as pd\n",
        "\n",
        "# Armazenar os dados\n",
        "import sqlite3\n",
        "\n",
        "# Gerar gráficos\n",
        "import matplotlib.pyplot as plt\n",
        "import seaborn as sns\n",
        "import plotly.graph_objects as go\n",
        "\n",
        "# Ignorar filtros\n",
        "from warnings import filterwarnings\n",
        "filterwarnings('ignore')"
      ]
    },
    {
      "cell_type": "markdown",
      "metadata": {
        "id": "BrWbCr2SAgRd"
      },
      "source": [
        "# *Consumindo a api*"
      ]
    },
    {
      "cell_type": "code",
      "execution_count": 2,
      "metadata": {
        "colab": {
          "base_uri": "https://localhost:8080/"
        },
        "id": "YO8HdxGLAeH7",
        "outputId": "893cb139-00e1-4420-9fbc-5f540686cf4f"
      },
      "outputs": [
        {
          "output_type": "stream",
          "name": "stdout",
          "text": [
            "<Response [200]> <Response [200]>\n"
          ]
        }
      ],
      "source": [
        "# Links\n",
        "despesas = 'http://www.al.sp.gov.br/repositorioDados/deputados/despesas_gabinetes.xml'\n",
        "cadastro = 'https://www.al.sp.gov.br/repositorioDados/deputados/deputados.xml'\n",
        "\n",
        "# Pegando as informações\n",
        "dados_despesas = requests.get(despesas)\n",
        "dados_cadastro = requests.get(cadastro)\n",
        "\n",
        "# Verificando o retorno da api\n",
        "print(dados_despesas, dados_cadastro)"
      ]
    },
    {
      "cell_type": "markdown",
      "metadata": {
        "id": "vIsnTjFfC1yi"
      },
      "source": [
        "# *Transformando para o objeto pd.dataframe e fazendo alterações*"
      ]
    },
    {
      "cell_type": "code",
      "execution_count": 3,
      "metadata": {
        "id": "2qAQ5ylJBrr1"
      },
      "outputs": [],
      "source": [
        "# Convertendo os dados para um dataframe\n",
        "df_despesas = pd.read_xml(dados_despesas.content)\n",
        "df_cadastro = pd.read_xml(dados_cadastro.content)"
      ]
    },
    {
      "cell_type": "markdown",
      "metadata": {
        "id": "YtN101R3HEPI"
      },
      "source": [
        "# *Modelando os dados*"
      ]
    },
    {
      "cell_type": "code",
      "execution_count": 4,
      "metadata": {
        "id": "cNRasvWLCg7n"
      },
      "outputs": [],
      "source": [
        "# Removendo colunas desnecessárias\n",
        "df_despesas = df_despesas[['Ano','Matricula','Valor']]\n",
        "df_cadastro = df_cadastro[['Matricula','Partido','NomeParlamentar']]\n",
        "\n",
        "filtro = df_despesas.loc[(df_despesas['Ano']>=2019)]\n",
        "\n",
        "# Agrupar o valor gasto de cada deputado por ano\n",
        "analise = filtro.groupby(by = ['Ano', 'Matricula']).sum()['Valor'].reset_index()\n",
        "analise = analise.pivot(index='Matricula',columns='Ano',values='Valor')\n",
        "analise = analise.dropna()\n",
        "\n",
        "# Fazer o cruzamento dos dados entre as tabelas\n",
        "df_analise = pd.merge(analise,df_cadastro,how='inner',on='Matricula')"
      ]
    },
    {
      "cell_type": "code",
      "source": [
        "# Adicionando os dados sobre pib_per_capita\n",
        "data = pd.read_csv('pib_per_capita.csv',encoding='utf-8')\n",
        "\n",
        "# Deletando colunas que não serão usadas\n",
        "data.drop(['Municipio','Unnamed: 4'], axis=1, inplace=True)\n",
        "\n",
        "# Modificando a coluna PIB per capita - transformando em um int\n",
        "valores = []\n",
        "\n",
        "for i in data['PIB per Capita']:\n",
        "    separado = i.split()\n",
        "    sem_ponto = separado[1].replace('.','')\n",
        "    valores.append(sem_ponto)\n",
        "    \n",
        "data['PIB per Capita'] = valores\n",
        "data['PIB per Capita'] = data['PIB per Capita'].astype(int)\n",
        "\n",
        "# Somando os valores pelo ano\n",
        "pib_ano = (data.groupby(by='Ano').sum('PIB per Capita')/1000000).reset_index()"
      ],
      "metadata": {
        "id": "jZd0ocB3Ty0O"
      },
      "execution_count": 23,
      "outputs": []
    },
    {
      "cell_type": "markdown",
      "metadata": {
        "id": "c_Ktl4aYqkbd"
      },
      "source": [
        "# *Armazenando os dados*"
      ]
    },
    {
      "cell_type": "code",
      "execution_count": null,
      "metadata": {
        "id": "vKM4U8aPDzMK"
      },
      "outputs": [],
      "source": [
        "# Criando o arquivo do banco de dados\n",
        "banco = sqlite3.connect('banco')\n",
        "\n",
        "# Criando um cursor\n",
        "curso_banco = banco.cursor()\n",
        "\n",
        "# Criando a tabela\n",
        "tabela1 = curso_banco.execute('create table Dados (Matricula,Gastos_2019,Gastos_2020,Gastos_2021, Gastos_2022)')\n",
        "\n",
        "# Enviando o comando\n",
        "banco.commit()\n",
        "\n",
        "# Adicionando dados para o banco de dados\n",
        "for i in df_analise.values:\n",
        "  curso_banco.execute(f'insert into Dados values ({i[0]},{i[1]},{i[2]},{i[3]},{i[4]})')\n",
        "\n",
        "# Consultando os valores do banco de dados\n",
        "curso_banco.execute('select * from Dados').fetchall()"
      ]
    },
    {
      "cell_type": "markdown",
      "metadata": {
        "id": "YCsRcyW_yTEI"
      },
      "source": [
        "# *Visualizando os dados*"
      ]
    },
    {
      "cell_type": "markdown",
      "metadata": {
        "id": "X4EzR67MykRN"
      },
      "source": [
        "### *Utilizando o Matplot Lib fiz um gráfico para analisar os gastos dos deputados do estado de São Paulo*"
      ]
    },
    {
      "cell_type": "code",
      "execution_count": null,
      "metadata": {
        "id": "U3oPOmh1zVQL"
      },
      "outputs": [],
      "source": [
        "despesas_por_ano = (df_despesas.groupby(by=['Ano']).sum()['Valor']/1000000).reset_index()\n",
        "despesas_por_ano"
      ]
    },
    {
      "cell_type": "code",
      "execution_count": 9,
      "metadata": {
        "colab": {
          "base_uri": "https://localhost:8080/",
          "height": 502
        },
        "id": "2BQj0Qc8Fh41",
        "outputId": "5c6ac065-3ab3-4370-afae-9a3a9e858df8"
      },
      "outputs": [
        {
          "output_type": "display_data",
          "data": {
            "text/plain": [
              "<Figure size 1296x576 with 1 Axes>"
            ],
            "image/png": "[encoded data removed]"
          },
          "metadata": {
            "needs_background": "light"
          }
        }
      ],
      "source": [
        "# Configurando a área do gráfico \n",
        "plt.figure(figsize=(18,8))\n",
        "\n",
        "# Criando o gráfico\n",
        "plt.bar( despesas_por_ano['Ano'], despesas_por_ano['Valor'], width=0.7, color='#6A5ACD')\n",
        "\n",
        "#Ajustes\n",
        "plt.title('Despesas dos deputados de São Paulo entre os anos de 2002 até 2022', loc='left', fontsize = 16, fontweight='500')\n",
        "plt.style.use('ggplot')\n",
        "\n",
        "# Adcionando valores as colunas\n",
        "for i,j in enumerate(despesas_por_ano['Valor']):\n",
        "  x = round(j,1)\n",
        "  valores = str(x)+'mi'\n",
        "  plt.text(x =despesas_por_ano['Ano'][i]-0.4,y = despesas_por_ano['Valor'][i]+0.5,s=valores, size = 'small')\n",
        "\n",
        "# \"Printando\" o gráfico\n",
        "plt.show()"
      ]
    },
    {
      "cell_type": "markdown",
      "source": [
        "### *Nesse gráfico, utilizando o plotly, estou querendo comparar a evoluação dos gastos e pib  per capita do estado*"
      ],
      "metadata": {
        "id": "21rTglFERH0o"
      }
    },
    {
      "cell_type": "code",
      "execution_count": 30,
      "metadata": {
        "colab": {
          "base_uri": "https://localhost:8080/",
          "height": 542
        },
        "id": "1epagWrPy2YJ",
        "outputId": "6bf2c815-f803-4266-b1f8-b061387650ff"
      },
      "outputs": [
        {
          "output_type": "display_data",
          "data": {
            "text/html": [
              "<html>\n",
              "<head><meta charset=\"utf-8\" /></head>\n",
              "<body>\n",
              "    <div>            <script src=\"https://cdnjs.cloudflare.com/ajax/libs/mathjax/2.7.5/MathJax.js?config=TeX-AMS-MML_SVG\"></script><script type=\"text/javascript\">if (window.MathJax) {MathJax.Hub.Config({SVG: {font: \"STIX-Web\"}});}</script>                <script type=\"text/javascript\">window.PlotlyConfig = {MathJaxConfig: 'local'};</script>\n",
              "        <script src=\"https://cdn.plot.ly/plotly-2.8.3.min.js\"></script>                <div id=\"eb63df78-e39a-4903-bf47-eec584295087\" class=\"plotly-graph-div\" style=\"height:525px; width:100%;\"></div>            <script type=\"text/javascript\">                                    window.PLOTLYENV=window.PLOTLYENV || {};                                    if (document.getElementById(\"eb63df78-e39a-4903-bf47-eec584295087\")) {                    Plotly.newPlot(                        \"eb63df78-e39a-4903-bf47-eec584295087\",                        [{\"name\":\"Gasto dos deputados\",\"x\":[2002,2003,2004,2005,2006,2007,2008,2009,2010,2011,2012,2013,2014,2015,2016,2017,2018,2019],\"y\":[11.12282142,15.83496424,17.24883218,18.15157081,18.39737596,18.39001124,17.808751179999998,19.69201171,18.361598,18.66688169,19.250086550000002,21.996182920000003,19.793197109999998,20.847302589999998,22.84478747,23.40825671,21.80572779,19.4378559],\"type\":\"scatter\"},{\"name\":\"PIB per capita\",\"x\":[2002,2003,2004,2005,2006,2007,2008,2009,2010,2011,2012,2013,2014,2015,2016,2017,2018,2019],\"y\":[5.831006,6.572933,6.916786,7.643062,8.655314,9.496006,10.158212,11.421462,12.528926,13.664315,14.957884,16.546504,18.495536,19.905243,20.603604,21.894367,21.997576,23.028231],\"type\":\"scatter\"}],                        {\"template\":{\"data\":{\"bar\":[{\"error_x\":{\"color\":\"#2a3f5f\"},\"error_y\":{\"color\":\"#2a3f5f\"},\"marker\":{\"line\":{\"color\":\"#E5ECF6\",\"width\":0.5},\"pattern\":{\"fillmode\":\"overlay\",\"size\":10,\"solidity\":0.2}},\"type\":\"bar\"}],\"barpolar\":[{\"marker\":{\"line\":{\"color\":\"#E5ECF6\",\"width\":0.5},\"pattern\":{\"fillmode\":\"overlay\",\"size\":10,\"solidity\":0.2}},\"type\":\"barpolar\"}],\"carpet\":[{\"aaxis\":{\"endlinecolor\":\"#2a3f5f\",\"gridcolor\":\"white\",\"linecolor\":\"white\",\"minorgridcolor\":\"white\",\"startlinecolor\":\"#2a3f5f\"},\"baxis\":{\"endlinecolor\":\"#2a3f5f\",\"gridcolor\":\"white\",\"linecolor\":\"white\",\"minorgridcolor\":\"white\",\"startlinecolor\":\"#2a3f5f\"},\"type\":\"carpet\"}],\"choropleth\":[{\"colorbar\":{\"outlinewidth\":0,\"ticks\":\"\"},\"type\":\"choropleth\"}],\"contour\":[{\"colorbar\":{\"outlinewidth\":0,\"ticks\":\"\"},\"colorscale\":[[0.0,\"#0d0887\"],[0.1111111111111111,\"#46039f\"],[0.2222222222222222,\"#7201a8\"],[0.3333333333333333,\"#9c179e\"],[0.4444444444444444,\"#bd3786\"],[0.5555555555555556,\"#d8576b\"],[0.6666666666666666,\"#ed7953\"],[0.7777777777777778,\"#fb9f3a\"],[0.8888888888888888,\"#fdca26\"],[1.0,\"#f0f921\"]],\"type\":\"contour\"}],\"contourcarpet\":[{\"colorbar\":{\"outlinewidth\":0,\"ticks\":\"\"},\"type\":\"contourcarpet\"}],\"heatmap\":[{\"colorbar\":{\"outlinewidth\":0,\"ticks\":\"\"},\"colorscale\":[[0.0,\"#0d0887\"],[0.1111111111111111,\"#46039f\"],[0.2222222222222222,\"#7201a8\"],[0.3333333333333333,\"#9c179e\"],[0.4444444444444444,\"#bd3786\"],[0.5555555555555556,\"#d8576b\"],[0.6666666666666666,\"#ed7953\"],[0.7777777777777778,\"#fb9f3a\"],[0.8888888888888888,\"#fdca26\"],[1.0,\"#f0f921\"]],\"type\":\"heatmap\"}],\"heatmapgl\":[{\"colorbar\":{\"outlinewidth\":0,\"ticks\":\"\"},\"colorscale\":[[0.0,\"#0d0887\"],[0.1111111111111111,\"#46039f\"],[0.2222222222222222,\"#7201a8\"],[0.3333333333333333,\"#9c179e\"],[0.4444444444444444,\"#bd3786\"],[0.5555555555555556,\"#d8576b\"],[0.6666666666666666,\"#ed7953\"],[0.7777777777777778,\"#fb9f3a\"],[0.8888888888888888,\"#fdca26\"],[1.0,\"#f0f921\"]],\"type\":\"heatmapgl\"}],\"histogram\":[{\"marker\":{\"pattern\":{\"fillmode\":\"overlay\",\"size\":10,\"solidity\":0.2}},\"type\":\"histogram\"}],\"histogram2d\":[{\"colorbar\":{\"outlinewidth\":0,\"ticks\":\"\"},\"colorscale\":[[0.0,\"#0d0887\"],[0.1111111111111111,\"#46039f\"],[0.2222222222222222,\"#7201a8\"],[0.3333333333333333,\"#9c179e\"],[0.4444444444444444,\"#bd3786\"],[0.5555555555555556,\"#d8576b\"],[0.6666666666666666,\"#ed7953\"],[0.7777777777777778,\"#fb9f3a\"],[0.8888888888888888,\"#fdca26\"],[1.0,\"#f0f921\"]],\"type\":\"histogram2d\"}],\"histogram2dcontour\":[{\"colorbar\":{\"outlinewidth\":0,\"ticks\":\"\"},\"colorscale\":[[0.0,\"#0d0887\"],[0.1111111111111111,\"#46039f\"],[0.2222222222222222,\"#7201a8\"],[0.3333333333333333,\"#9c179e\"],[0.4444444444444444,\"#bd3786\"],[0.5555555555555556,\"#d8576b\"],[0.6666666666666666,\"#ed7953\"],[0.7777777777777778,\"#fb9f3a\"],[0.8888888888888888,\"#fdca26\"],[1.0,\"#f0f921\"]],\"type\":\"histogram2dcontour\"}],\"mesh3d\":[{\"colorbar\":{\"outlinewidth\":0,\"ticks\":\"\"},\"type\":\"mesh3d\"}],\"parcoords\":[{\"line\":{\"colorbar\":{\"outlinewidth\":0,\"ticks\":\"\"}},\"type\":\"parcoords\"}],\"pie\":[{\"automargin\":true,\"type\":\"pie\"}],\"scatter\":[{\"marker\":{\"colorbar\":{\"outlinewidth\":0,\"ticks\":\"\"}},\"type\":\"scatter\"}],\"scatter3d\":[{\"line\":{\"colorbar\":{\"outlinewidth\":0,\"ticks\":\"\"}},\"marker\":{\"colorbar\":{\"outlinewidth\":0,\"ticks\":\"\"}},\"type\":\"scatter3d\"}],\"scattercarpet\":[{\"marker\":{\"colorbar\":{\"outlinewidth\":0,\"ticks\":\"\"}},\"type\":\"scattercarpet\"}],\"scattergeo\":[{\"marker\":{\"colorbar\":{\"outlinewidth\":0,\"ticks\":\"\"}},\"type\":\"scattergeo\"}],\"scattergl\":[{\"marker\":{\"colorbar\":{\"outlinewidth\":0,\"ticks\":\"\"}},\"type\":\"scattergl\"}],\"scattermapbox\":[{\"marker\":{\"colorbar\":{\"outlinewidth\":0,\"ticks\":\"\"}},\"type\":\"scattermapbox\"}],\"scatterpolar\":[{\"marker\":{\"colorbar\":{\"outlinewidth\":0,\"ticks\":\"\"}},\"type\":\"scatterpolar\"}],\"scatterpolargl\":[{\"marker\":{\"colorbar\":{\"outlinewidth\":0,\"ticks\":\"\"}},\"type\":\"scatterpolargl\"}],\"scatterternary\":[{\"marker\":{\"colorbar\":{\"outlinewidth\":0,\"ticks\":\"\"}},\"type\":\"scatterternary\"}],\"surface\":[{\"colorbar\":{\"outlinewidth\":0,\"ticks\":\"\"},\"colorscale\":[[0.0,\"#0d0887\"],[0.1111111111111111,\"#46039f\"],[0.2222222222222222,\"#7201a8\"],[0.3333333333333333,\"#9c179e\"],[0.4444444444444444,\"#bd3786\"],[0.5555555555555556,\"#d8576b\"],[0.6666666666666666,\"#ed7953\"],[0.7777777777777778,\"#fb9f3a\"],[0.8888888888888888,\"#fdca26\"],[1.0,\"#f0f921\"]],\"type\":\"surface\"}],\"table\":[{\"cells\":{\"fill\":{\"color\":\"#EBF0F8\"},\"line\":{\"color\":\"white\"}},\"header\":{\"fill\":{\"color\":\"#C8D4E3\"},\"line\":{\"color\":\"white\"}},\"type\":\"table\"}]},\"layout\":{\"annotationdefaults\":{\"arrowcolor\":\"#2a3f5f\",\"arrowhead\":0,\"arrowwidth\":1},\"autotypenumbers\":\"strict\",\"coloraxis\":{\"colorbar\":{\"outlinewidth\":0,\"ticks\":\"\"}},\"colorscale\":{\"diverging\":[[0,\"#8e0152\"],[0.1,\"#c51b7d\"],[0.2,\"#de77ae\"],[0.3,\"#f1b6da\"],[0.4,\"#fde0ef\"],[0.5,\"#f7f7f7\"],[0.6,\"#e6f5d0\"],[0.7,\"#b8e186\"],[0.8,\"#7fbc41\"],[0.9,\"#4d9221\"],[1,\"#276419\"]],\"sequential\":[[0.0,\"#0d0887\"],[0.1111111111111111,\"#46039f\"],[0.2222222222222222,\"#7201a8\"],[0.3333333333333333,\"#9c179e\"],[0.4444444444444444,\"#bd3786\"],[0.5555555555555556,\"#d8576b\"],[0.6666666666666666,\"#ed7953\"],[0.7777777777777778,\"#fb9f3a\"],[0.8888888888888888,\"#fdca26\"],[1.0,\"#f0f921\"]],\"sequentialminus\":[[0.0,\"#0d0887\"],[0.1111111111111111,\"#46039f\"],[0.2222222222222222,\"#7201a8\"],[0.3333333333333333,\"#9c179e\"],[0.4444444444444444,\"#bd3786\"],[0.5555555555555556,\"#d8576b\"],[0.6666666666666666,\"#ed7953\"],[0.7777777777777778,\"#fb9f3a\"],[0.8888888888888888,\"#fdca26\"],[1.0,\"#f0f921\"]]},\"colorway\":[\"#636efa\",\"#EF553B\",\"#00cc96\",\"#ab63fa\",\"#FFA15A\",\"#19d3f3\",\"#FF6692\",\"#B6E880\",\"#FF97FF\",\"#FECB52\"],\"font\":{\"color\":\"#2a3f5f\"},\"geo\":{\"bgcolor\":\"white\",\"lakecolor\":\"white\",\"landcolor\":\"#E5ECF6\",\"showlakes\":true,\"showland\":true,\"subunitcolor\":\"white\"},\"hoverlabel\":{\"align\":\"left\"},\"hovermode\":\"closest\",\"mapbox\":{\"style\":\"light\"},\"paper_bgcolor\":\"white\",\"plot_bgcolor\":\"#E5ECF6\",\"polar\":{\"angularaxis\":{\"gridcolor\":\"white\",\"linecolor\":\"white\",\"ticks\":\"\"},\"bgcolor\":\"#E5ECF6\",\"radialaxis\":{\"gridcolor\":\"white\",\"linecolor\":\"white\",\"ticks\":\"\"}},\"scene\":{\"xaxis\":{\"backgroundcolor\":\"#E5ECF6\",\"gridcolor\":\"white\",\"gridwidth\":2,\"linecolor\":\"white\",\"showbackground\":true,\"ticks\":\"\",\"zerolinecolor\":\"white\"},\"yaxis\":{\"backgroundcolor\":\"#E5ECF6\",\"gridcolor\":\"white\",\"gridwidth\":2,\"linecolor\":\"white\",\"showbackground\":true,\"ticks\":\"\",\"zerolinecolor\":\"white\"},\"zaxis\":{\"backgroundcolor\":\"#E5ECF6\",\"gridcolor\":\"white\",\"gridwidth\":2,\"linecolor\":\"white\",\"showbackground\":true,\"ticks\":\"\",\"zerolinecolor\":\"white\"}},\"shapedefaults\":{\"line\":{\"color\":\"#2a3f5f\"}},\"ternary\":{\"aaxis\":{\"gridcolor\":\"white\",\"linecolor\":\"white\",\"ticks\":\"\"},\"baxis\":{\"gridcolor\":\"white\",\"linecolor\":\"white\",\"ticks\":\"\"},\"bgcolor\":\"#E5ECF6\",\"caxis\":{\"gridcolor\":\"white\",\"linecolor\":\"white\",\"ticks\":\"\"}},\"title\":{\"x\":0.05},\"xaxis\":{\"automargin\":true,\"gridcolor\":\"white\",\"linecolor\":\"white\",\"ticks\":\"\",\"title\":{\"standoff\":15},\"zerolinecolor\":\"white\",\"zerolinewidth\":2},\"yaxis\":{\"automargin\":true,\"gridcolor\":\"white\",\"linecolor\":\"white\",\"ticks\":\"\",\"title\":{\"standoff\":15},\"zerolinecolor\":\"white\",\"zerolinewidth\":2}}},\"title\":{\"text\":\"Compara\\u00e7\\u00e3o entre os gastos dos deputados e o PIB per capita\"}},                        {\"responsive\": true}                    ).then(function(){\n",
              "                            \n",
              "var gd = document.getElementById('eb63df78-e39a-4903-bf47-eec584295087');\n",
              "var x = new MutationObserver(function (mutations, observer) {{\n",
              "        var display = window.getComputedStyle(gd).display;\n",
              "        if (!display || display === 'none') {{\n",
              "            console.log([gd, 'removed!']);\n",
              "            Plotly.purge(gd);\n",
              "            observer.disconnect();\n",
              "        }}\n",
              "}});\n",
              "\n",
              "// Listen for the removal of the full notebook cells\n",
              "var notebookContainer = gd.closest('#notebook-container');\n",
              "if (notebookContainer) {{\n",
              "    x.observe(notebookContainer, {childList: true});\n",
              "}}\n",
              "\n",
              "// Listen for the clearing of the current output cell\n",
              "var outputEl = gd.closest('.output');\n",
              "if (outputEl) {{\n",
              "    x.observe(outputEl, {childList: true});\n",
              "}}\n",
              "\n",
              "                        })                };                            </script>        </div>\n",
              "</body>\n",
              "</html>"
            ]
          },
          "metadata": {}
        }
      ],
      "source": [
        "\n",
        "fig = go.Figure(data=[\n",
        "go.Line(name='Gasto dos deputados',y=despesas_por_ano['Valor'][0:18], x= pib_ano['Ano']), \n",
        "go.Line(name = 'PIB per capita',y=pib_ano['PIB per Capita'],x = pib_ano['Ano']),])\n",
        "\n",
        "fig.update_layout(title='Comparação entre os gastos dos deputados e o PIB per capita')\n",
        "\n",
        "fig.show()"
      ]
    },
    {
      "cell_type": "code",
      "source": [],
      "metadata": {
        "id": "2PWQ40qqfXrS"
      },
      "execution_count": null,
      "outputs": []
    }
  ],
  "metadata": {
    "colab": {
      "collapsed_sections": [],
      "provenance": [],
      "authorship_tag": "ABX9TyN6/UA247grEx7o/pH4kKtL",
      "include_colab_link": true
    },
    "kernelspec": {
      "display_name": "Python 3",
      "name": "python3"
    },
    "language_info": {
      "name": "python"
    }
  },
  "nbformat": 4,
  "nbformat_minor": 0
}