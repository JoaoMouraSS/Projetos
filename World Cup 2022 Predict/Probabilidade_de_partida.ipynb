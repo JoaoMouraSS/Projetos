{
 "cells": [
  {
   "cell_type": "code",
   "execution_count": 1,
   "metadata": {},
   "outputs": [],
   "source": [
    "import pandas as pd\n",
    "import numpy as np\n",
    "import random\n",
    "from scipy.stats import poisson"
   ]
  },
  {
   "attachments": {},
   "cell_type": "markdown",
   "metadata": {},
   "source": [
    "# Fonte dos dados"
   ]
  },
  {
   "cell_type": "code",
   "execution_count": 2,
   "metadata": {},
   "outputs": [],
   "source": [
    "df_selecao = pd.read_excel('DadosCopaDoMundoQatar2022.xlsx', sheet_name = 'selecoes',index_col=0)\n",
    "df_jogos  = pd.read_excel('DadosCopaDoMundoQatar2022.xlsx', sheet_name='jogos')"
   ]
  },
  {
   "attachments": {},
   "cell_type": "markdown",
   "metadata": {},
   "source": [
    "# Criando as funções que serão utilizadas ao longo do projeto para a resolução do problema"
   ]
  },
  {
   "attachments": {},
   "cell_type": "markdown",
   "metadata": {},
   "source": [
    "1. Para iniciar o projeto foi feito um escalonamento das forças das equipes. A pontuação dada pela FIFA iria diminuir a eficiência do algoritmo ao longo do execução. Assim foi feito uma matemática para que se podesse escalanor os dados entre os valores 0.15 (mín) e 1 (máx)."
   ]
  },
  {
   "cell_type": "code",
   "execution_count": 3,
   "metadata": {},
   "outputs": [],
   "source": [
    "f = df_selecao[\"PontosRankingFIFA\"]\n",
    "a, b = min(f), max(f) \n",
    "fa, fb = 0.15, 1 \n",
    "b1 = (fb - fa)/(b-a) \n",
    "b0 = fb - b*b1\n",
    "forca = b0 + b1*f"
   ]
  },
  {
   "attachments": {},
   "cell_type": "markdown",
   "metadata": {},
   "source": [
    "2. Essa função tem como objetivo encontrar/prever a média de gols que cada seleção irá fazer. Tudo isso se baseando no bloco anterior, ou seja, segundo os dados, escalonados, da fifa. Sendo assim, a expectativa de gol para cada partida foi de 2.63, segundo o site, essa informção está contando até o o jogo do dia 14/12, jogo das quartas de finais entre Marrocos e França, sendo a França a vencedora.\n",
    "\n",
    "    Refêrencia: https://www.goal.com/br/not%C3%ADcias/quantos-gols-sairam-na-copa-do-mundo-2022-e-qual-a-media-por-jogo/bltf039878c7bfeddcc"
   ]
  },
  {
   "cell_type": "code",
   "execution_count": 4,
   "metadata": {},
   "outputs": [],
   "source": [
    "def media_equipes(selecao1, selecao2):\n",
    "    forca_casa = forca[f'{selecao1}']\n",
    "    forca_fora = forca[f'{selecao2}']\n",
    "    expectativa_de_gols = 2.63\n",
    "    lambda_casa = expectativa_de_gols*forca_casa/(forca_casa + forca_fora)\n",
    "    lambda_fora = expectativa_de_gols*forca_fora/(forca_fora + forca_fora)\n",
    "    return [lambda_casa, lambda_fora]"
   ]
  },
  {
   "attachments": {},
   "cell_type": "markdown",
   "metadata": {},
   "source": [
    "3. Utilizando do conhecimento da **Distribuição de Poisson** é possivel encontrar as probabilidades de gols de cada time. A melhor forma para visulizar essa informação é através de uma matriz, já que iremos analisar a probabilidade de gols das duas equipes simultaneamente. Sendo que *o melhor resultado será aquele o qual a soma das probabilidade das duas equipes é maior.*\n",
    "\n",
    "    \"A distribuição de Poisson é uma distribuição de probabilidade de variável aleatória discreta que expressa a probabilidade de uma série de eventos ocorrer num certo período de tempo se estes eventos ocorrem independentemente de quando ocorreu o último evento.\"\n",
    "\n",
    "    Refêrencia: https://pt.wikipedia.org/wiki/Distribui%C3%A7%C3%A3o_de_Poisson"
   ]
  },
  {
   "cell_type": "code",
   "execution_count": 5,
   "metadata": {},
   "outputs": [],
   "source": [
    "def distribuicao(media):\n",
    "    probs = []\n",
    "    for i in range(7):\n",
    "        probs.append(poisson.pmf(i,media))\n",
    "    probs.append(1-sum(probs))\n",
    "    return pd.Series(probs, index = ['0', '1', '2', '3', '4', '5', '6', '7+'])"
   ]
  },
  {
   "attachments": {},
   "cell_type": "markdown",
   "metadata": {},
   "source": [
    "4. Nesse bloco foi feito para encontrar a quantidade de gols que uma seleção irá fazer na outra, segundo a média equipe, usando a distribuição de poisson, ou seja, a quantidade de gols que a equipe é esperada fazer. "
   ]
  },
  {
   "cell_type": "code",
   "execution_count": 6,
   "metadata": {},
   "outputs": [],
   "source": [
    "def qtd_gols(casa,fora):\n",
    "    lambda_casa, lambda_fora = media_equipes(selecao1=casa,selecao2=fora)\n",
    "    gols_casa = np.random.poisson(lam=lambda_casa,size=1)\n",
    "    gols_fora = np.random.poisson(lam=lambda_fora,size=1)\n",
    "    saldo_time_casa = gols_casa - gols_fora\n",
    "    saldo_time_fora = -saldo_time_casa\n",
    "    placar = f'{saldo_time_casa}x{saldo_time_fora}'\n",
    "    return [gols_casa, gols_fora, saldo_time_casa, saldo_time_fora, placar]"
   ]
  },
  {
   "attachments": {},
   "cell_type": "markdown",
   "metadata": {},
   "source": [
    "5. Na próxima função foi criada com a finalidade de encontrar as \"probabilidades\" das, respectivas, seleções. Com essa probabilidade encontraremos o resultado do jogo e a matriz que irá informar qual será a possivel combinação, de gols, da partida."
   ]
  },
  {
   "cell_type": "code",
   "execution_count": 7,
   "metadata": {},
   "outputs": [],
   "source": [
    "def probabilidade(selecao1,selecao2):\n",
    "    lambda_casa, lambda_fora = media_equipes(selecao1=selecao1, selecao2=selecao2)\n",
    "    dist1, dist2 = distribuicao(media = lambda_casa), distribuicao(media= lambda_fora)\n",
    "    matriz = np.outer(dist1, dist2)\n",
    "    vitoria = np.tril(matriz).sum()-np.trace(matriz)    #Soma a triangulo inferior\n",
    "    derrota = np.triu(matriz).sum()-np.trace(matriz)    #Soma a triangulo superior\n",
    "    empate = 1 - (vitoria + derrota)\n",
    "    probs = np.around([vitoria, empate , derrota], 3)\n",
    "    \n",
    "    probsp = [f'{100*i:.1f}%' for i in probs]\n",
    "\n",
    "    nomes = ['0', '1', '2', '3', '4', '5', '6', '7+']\n",
    "    matriz = pd.DataFrame(matriz, columns = nomes, index = nomes)\n",
    "    matriz.index = pd.MultiIndex.from_product([[selecao1], matriz.index])\n",
    "    matriz.columns = pd.MultiIndex.from_product([[selecao2], matriz.columns]) \n",
    "\n",
    "    output = {'seleção1': selecao1, 'seleção2': selecao2, \n",
    "             'f1': forca[selecao1], 'f2': forca[selecao2], \n",
    "             'media1': lambda_casa, 'media2': lambda_fora, \n",
    "             'probabilidades': probsp, 'matriz': matriz}\n",
    "    \n",
    "    return output"
   ]
  },
  {
   "attachments": {},
   "cell_type": "markdown",
   "metadata": {},
   "source": [
    "6. Função tem como ojetivo classificar, segundo a quantidade de gol, se houve uma vítoria, empate ou derrota"
   ]
  },
  {
   "cell_type": "code",
   "execution_count": 8,
   "metadata": {},
   "outputs": [],
   "source": [
    "def Resultado(gols1, gols2):\n",
    "    if gols1 > gols2:\n",
    "        res = 'V'\n",
    "    if gols1 < gols2:\n",
    "        res = 'D' \n",
    "    if gols1 == gols2:\n",
    "        res = 'E'       \n",
    "    return res"
   ]
  },
  {
   "attachments": {},
   "cell_type": "markdown",
   "metadata": {},
   "source": [
    "7. Usando a informação da função anterior. A seguinte função tem como produto contar a quantidade de pontos que cada equipe fez. Seguindo o padrão básico do futebol. Vitória = 3 pontos; Empate = 1; Derrota = 0."
   ]
  },
  {
   "cell_type": "code",
   "execution_count": 9,
   "metadata": {},
   "outputs": [],
   "source": [
    "def Pontos(gols1, gols2):\n",
    "    rst = Resultado(gols1, gols2)\n",
    "    if rst == 'V':\n",
    "        pontos1, pontos2 = 3, 0\n",
    "    if rst == 'E':\n",
    "        pontos1, pontos2 = 1, 1\n",
    "    if rst == 'D':\n",
    "        pontos1, pontos2 = 0, 3\n",
    "    return pontos1, pontos2, rst"
   ]
  },
  {
   "attachments": {},
   "cell_type": "markdown",
   "metadata": {},
   "source": [
    "8. No seguinte bloco de código foi construida uma função para que se possa identificar o resultado da partida. Como pode ser visto na última linha do bloco, temos um retorno dos gols feitos pela equipe 1 e 2, saldo da equipe 1 e 2, o resultado (pontuação) e o placar do time 1 e 2."
   ]
  },
  {
   "cell_type": "code",
   "execution_count": 10,
   "metadata": {},
   "outputs": [],
   "source": [
    "def Jogo(selecao1, selecao2):\n",
    "    l1, l2 = media_equipes(selecao1, selecao2)\n",
    "    gols1 = int(np.random.poisson(lam = l1, size = 1))\n",
    "    gols2 = int(np.random.poisson(lam = l2, size = 1))\n",
    "    saldo1 = gols1 - gols2\n",
    "    saldo2 = -saldo1\n",
    "    pontos1, pontos2, result = Pontos(gols1, gols2)\n",
    "    placar = '{}x{}'.format(gols1, gols2)\n",
    "    return [gols1, gols2, saldo1, saldo2, pontos1, pontos2, result, placar]"
   ]
  },
  {
   "attachments": {},
   "cell_type": "markdown",
   "metadata": {},
   "source": [
    "10. No seguinte bloco tem a finalidade de organizar as probabilidades de cada time em uma matriz. No caso, a probabilidade de vitória, empate ou derrota de cada time e, claro, usando as funções criadas anteriormente."
   ]
  },
  {
   "cell_type": "code",
   "execution_count": 11,
   "metadata": {},
   "outputs": [],
   "source": [
    "df_jogos['Vitoria'] = None\n",
    "df_jogos['Empate'] = None\n",
    "df_jogos['Derrota'] = None\n",
    "\n",
    "for i in range(len(df_jogos)):\n",
    "    s1 = df_jogos['seleção1'][i]\n",
    "    s2 = df_jogos['seleção2'][i]\n",
    "    v,e,d = probabilidade(selecao1=s1, selecao2=s2)['probabilidades']\n",
    "    df_jogos.at[i,'Vitoria'] = v\n",
    "    df_jogos.at[i,'Empate'] = e\n",
    "    df_jogos.at[i,'Derrota'] = d"
   ]
  },
  {
   "attachments": {},
   "cell_type": "markdown",
   "metadata": {},
   "source": [
    "# Fase de Grupos"
   ]
  },
  {
   "attachments": {},
   "cell_type": "markdown",
   "metadata": {},
   "source": [
    "11. Trazendo para a prática todas as funções, iremos, no próximo bloco de código, criar o \"esqueleto\" de como funciona a fase de grupos da copa.\n",
    "\n",
    "    Assim sendo, na fase de grupos , \"as equipes competem em oito grupos de quatro equipes cada. Oito equipes são as cabeças de chave (incluindo os anfitriões  e as outras equipes que são selecionadas usando o ranking da FIFA como parâmetro, posicionado-os em grupos separados. As outras equipes são adicionadas geralmente com base em critérios geográficos , e as equipes em cada pote são sorteadas aleatoriamente para os oito grupos.\"\n",
    "\n",
    "    \"Cada grupo tem um torneio round-robin , garantindo que cada equipe irá jogar pelo menos três partidas . As duas melhores equipes de cada grupo avançam para a fase eliminatória . Os pontos são usados ​​para classificar as equipes dentro de um grupo. Desde 1994, três pontos foram concedidos para uma vitória , um por empate e nenhum para uma derrota (antes disso, os vencedores recebiam dois pontos em vez de três). Se duas ou mais equipes acabam com o mesmo número de pontos, são usados ​​critérios de desempate, o mais importante é o saldo de gols.\"\n",
    "\n",
    "    Refência: https://www.wikiartigos.com.br/como-funciona-a-copa-do-mundo-da-fifa/#:~:text=Na%20fase%20de%20grupos%2C%20as%20equipes%20competem%20em,da%20FIFA%20como%20par%C3%A2metro%2C%20posicionado-os%20em%20grupos%20separados."
   ]
  },
  {
   "cell_type": "code",
   "execution_count": 12,
   "metadata": {},
   "outputs": [],
   "source": [
    "def JogosGrupo(dados, grupo):\n",
    "    \n",
    "    times = list(dados.loc[dados['Grupo']==grupo].index)\n",
    "\n",
    "    time1, time2, time3, time4 = times\n",
    "\n",
    "    pt1, pt2, pt3, pt4 = 0, 0, 0, 0\n",
    "    gp1, gp2, gp3, gp4 = 0, 0, 0, 0\n",
    "    sg1, sg2, sg3, sg4 = 0, 0, 0, 0\n",
    "\n",
    "    jogo1 = Jogo(time1, time2)\n",
    "    jogo2 = Jogo(time3, time4)\n",
    "\n",
    "    jogo3 = Jogo(time1, time3)\n",
    "    jogo4 = Jogo(time2, time4)\n",
    "\n",
    "    jogo5 = Jogo(time1, time4)\n",
    "    jogo6 = Jogo(time2, time3)\n",
    "\n",
    "    gp1, gp2, sg1, sg2, pt1, pt2 = gp1 + jogo1[0], gp2 + jogo1[1], sg1 + jogo1[2], sg2 + jogo1[3], pt1 + jogo1[4], pt2 + jogo1[5]\n",
    "    gp3, gp4, sg3, sg4, pt3, pt4 = gp3 + jogo2[0], gp4 + jogo2[1], sg3 + jogo2[2], sg4 + jogo2[3], pt3 + jogo2[4], pt4 + jogo2[5]\n",
    "    gp1, gp3, sg1, sg3, pt1, pt3 = gp1 + jogo3[0], gp3 + jogo3[1], sg1 + jogo3[2], sg3 + jogo3[3], pt1 + jogo3[4], pt3 + jogo3[5]\n",
    "    gp2, gp4, sg2, sg4, pt2, pt4 = gp2 + jogo4[0], gp4 + jogo4[1], sg2 + jogo4[2], sg4 + jogo4[3], pt2 + jogo4[4], pt4 + jogo4[5]\n",
    "    gp1, gp4, sg1, sg4, pt1, pt4 = gp1 + jogo5[0], gp4 + jogo5[1], sg1 + jogo5[2], sg4 + jogo5[3], pt1 + jogo5[4], pt4 + jogo5[5]\n",
    "    gp2, gp3, sg2, sg3, pt2, pt3 = gp2 + jogo6[0], gp3 + jogo6[1], sg2 + jogo6[2], sg3 + jogo6[3], pt2 + jogo6[4], pt3 + jogo6[5]\n",
    "\n",
    "    partidas = [ time1 + ' x ' + time2, \n",
    "                 time3 + ' x ' + time4,\n",
    "                 time1 + ' x ' + time3, \n",
    "                 time2 + ' x ' + time4,\n",
    "                 time1 + ' x ' + time4,\n",
    "                 time2 + ' x ' + time3 ]\n",
    "\n",
    "    resultados = [ jogo1[6], jogo2[6], jogo3[6], jogo4[6], jogo5[6], jogo6[6] ]\n",
    "    placares = [ jogo1[-1], jogo2[-1], jogo3[-1], jogo4[-1], jogo5[-1], jogo6[-1] ] \n",
    "    cols = ['Pontos', 'Saldo de Gols', 'Gols Pró']\n",
    "    tab = pd.DataFrame([[pt1, pt2, pt3, pt4], [sg1, sg2, sg3, sg4], [gp1, gp2, gp3, gp4]], index = cols, columns = times).transpose()\n",
    "    \n",
    "    tab = tab.sort_values(['Pontos', 'Saldo de Gols', 'Gols Pró'], ascending = False)\n",
    "    tab['Posição'] = [1, 2, 3, 4]\n",
    "\n",
    "    jogos = pd.DataFrame([partidas, placares, resultados]).transpose()\n",
    "    jogos.columns = ['Partida', 'Placar', 'Resultado']\n",
    "\n",
    "    return [tab, jogos]"
   ]
  },
  {
   "attachments": {},
   "cell_type": "markdown",
   "metadata": {},
   "source": [
    "# Fase eliminatória"
   ]
  },
  {
   "attachments": {},
   "cell_type": "markdown",
   "metadata": {},
   "source": [
    "12. Encontrado as 16 seleções que tiveram a melhor performace nessa fase de grupos, iremos utilizar de uma função para identificar como ficará a fase, mais conhecida no Brasil, como \"Mata-Mata\".\n",
    "\n",
    "    \"A fase eliminatória é um torneio de eliminação simples em que as equipes jogam entre si em jogos únicos, com tempo extra e pênaltis usados ​​para decidir o vencedor, se necessário. Ela começa com a “rodada dos 16”, em que o vencedor de cada grupo joga contra o segundo colocado do outro grupo (primeiro do A contra o segundo do B etc), seguido pelas quartas de final , as semi-finais, o jogo do terceiro lugar ( contestado pelos perdedores semifinalistas ) , e a grande final.\"\n",
    "\n",
    "    Uma observação a ser feita no algoritmo a seguir é que em caso de empate, foi usado o \"random.sample\" um algoritmo que irá decidir de forma aleatória o vencedor da partida, já que, penaltis tem uma pequena relação com a sorte...\n",
    "\n",
    "    Refência: https://www.wikiartigos.com.br/como-funciona-a-copa-do-mundo-da-fifa/#:~:text=Na%20fase%20de%20grupos%2C%20as%20equipes%20competem%20em,da%20FIFA%20como%20par%C3%A2metro%2C%20posicionado-os%20em%20grupos%20separados.\n",
    "    "
   ]
  },
  {
   "cell_type": "code",
   "execution_count": 13,
   "metadata": {},
   "outputs": [],
   "source": [
    "def JogoMM(selecao1, selecao2):\n",
    "    r = Jogo(selecao1=selecao1,selecao2=selecao2)\n",
    "    if r[6] == 'V':\n",
    "        return selecao1\n",
    "    elif r[6] == 'D':\n",
    "        return selecao2\n",
    "    else:\n",
    "        return random.sample([selecao1, selecao2], 1)[0]"
   ]
  },
  {
   "attachments": {},
   "cell_type": "markdown",
   "metadata": {},
   "source": [
    "13. Definida a solução para representar os jogos \"Mata-Mata\" iremos utiliza-la para encontrar a simular todas as probabilides das seleções que estão na copa.\n",
    "\n",
    "    Nesse algoritmo iremos identificar qual será as probabilides, de cada seleção, de forma individual, em ser o 1°, o 2°, 3° e 4° do seu grupo. Em seguida, apartir da fase eliminatória, qual será a chances do time ir passar para a proxima fase. Por fim, qual é a real chance dessa selação ser a campeã."
   ]
  },
  {
   "cell_type": "code",
   "execution_count": 14,
   "metadata": {},
   "outputs": [],
   "source": [
    "def SimulaCopa(dados):\n",
    "\n",
    "    # Data Frame que será usado para guardar as informações\n",
    "    cols = ['1st', '2nd', '3rd', '4th', 'Oitavas', 'Quartas', 'Semis', 'Final', 'Campeão']\n",
    "    n = dados.shape[0]\n",
    "    m = len(cols)\n",
    "    aux = np.array(np.zeros(n*m).reshape(n, m))\n",
    "    info = pd.DataFrame(aux, columns = cols, index = dados.index) \n",
    "    info = info.astype(int)\n",
    "\n",
    "    # As seleções que passaram para a proxima fase\n",
    "    top16 = []\n",
    "    for i in ['A','B','C','D','E','F','G','H']:\n",
    "        resultados = JogosGrupo(dados=dados,grupo=i)[0]\n",
    "        top16+=resultados.index[:2].to_list()\n",
    "        anomes = resultados.index.to_list()\n",
    "        info.at[anomes[0], '1st'] = 1\n",
    "        info.at[anomes[1], '2nd'] = 1\n",
    "        info.at[anomes[2], '3rd'] = 1\n",
    "        info.at[anomes[3], '4th'] = 1\n",
    "    \n",
    "    # Oitavas de finais\n",
    "    qf1 = JogoMM(top16[0], top16[3])   #A1 x B2\n",
    "    qf2 = JogoMM(top16[2], top16[1])   #B1 x A2\n",
    "    qf3 = JogoMM(top16[4], top16[7])   #C1 x D2\n",
    "    qf4 = JogoMM(top16[6], top16[5])   #D1 x C2\n",
    "    qf5 = JogoMM(top16[8], top16[11])  #E1 x F2\n",
    "    qf6 = JogoMM(top16[10], top16[9])  #F1 x E2\n",
    "    qf7 = JogoMM(top16[12], top16[15]) #G1 x H2\n",
    "    qf8 = JogoMM(top16[14], top16[13]) #H1 x G2\n",
    "\n",
    "    # Quartas de finais\n",
    "    top8 = [qf1, qf2, qf3, qf4, qf5, qf6, qf7, qf8]\n",
    "    sf1 = JogoMM(qf1, qf3)\n",
    "    sf2 = JogoMM(qf2, qf4) \n",
    "    sf3 = JogoMM(qf5, qf7) \n",
    "    sf4 = JogoMM(qf6, qf8) \n",
    "\n",
    "    # Semi-finais\n",
    "    top4 = [sf1, sf2, sf3, sf4]\n",
    "    f1 = JogoMM(sf1, sf3) \n",
    "    f2 = JogoMM(sf2, sf4) \n",
    "    \n",
    "    # Final\n",
    "    top2 = [f1, f2]\n",
    "    top1 = JogoMM(f1,f2)\n",
    "\n",
    "    # Atualizando o data frame\n",
    "    for i in range(len(top16)):\n",
    "        info.at[top16[i], 'Oitavas'] = 1\n",
    "\n",
    "    for i in range(len(top8)):\n",
    "        info.at[top8[i], 'Quartas'] = 1\n",
    "\n",
    "    for i in range(len(top4)):\n",
    "        info.at[top4[i], 'Semis'] = 1\n",
    "\n",
    "    for i in range(len(top2)):\n",
    "        info.at[top2[i], 'Final'] = 1    \n",
    "\n",
    "    info.at[top1, 'Campeão'] = 1\n",
    "\n",
    "    return info"
   ]
  },
  {
   "attachments": {},
   "cell_type": "markdown",
   "metadata": {},
   "source": [
    "14. Por fim, foi criado esse algoritmo simples para simular a copa n vezes. Temos que fazer isso, simular n vezes, pois, somente uma ou 10 vezes calculada a copa existirá uma certa instabilidade no resultado final. Assim, pouco provavel de ser o real resultado da copa.   "
   ]
  },
  {
   "cell_type": "code",
   "execution_count": 15,
   "metadata": {},
   "outputs": [],
   "source": [
    "def Toda_a_Copa(dados, qtd):\n",
    "    info = SimulaCopa(dados=dados)\n",
    "    for i in (range(qtd-1)):\n",
    "        info += SimulaCopa(df_selecao)\n",
    "    return info.sort_values(by='Campeão', ascending=False)/qtd"
   ]
  },
  {
   "attachments": {},
   "cell_type": "markdown",
   "metadata": {},
   "source": [
    "# Conclusão"
   ]
  },
  {
   "attachments": {},
   "cell_type": "markdown",
   "metadata": {},
   "source": [
    "É recomendado que a simulação seja executada, no mínimo 1.000.000 de vezes. Mas, caso não tenha um computador bom, assim como o meu, rode 1000 vezes, lembrando que esse resultado não será muito consistente."
   ]
  },
  {
   "cell_type": "code",
   "execution_count": 16,
   "metadata": {},
   "outputs": [],
   "source": [
    "resultado_da_copa = Toda_a_Copa(dados=df_selecao, qtd=1000)"
   ]
  },
  {
   "attachments": {},
   "cell_type": "markdown",
   "metadata": {},
   "source": [
    "Foi utilizado para definir quem será o vencedor da copa de 2022 aquela seleção que tiver o maior probabalidade para ser campeão ao fazer a simualação. O Data Frame que será gerado já está ordenado de acordo com o maior resultado para o menor resultado.\n",
    "\n",
    "Se o Brasil perdeu, não desanime é só esperar mais 4 anos... Fica \"tite\" não!"
   ]
  },
  {
   "cell_type": "code",
   "execution_count": 18,
   "metadata": {},
   "outputs": [
    {
     "data": {
      "text/html": [
       "<div>\n",
       "<style scoped>\n",
       "    .dataframe tbody tr th:only-of-type {\n",
       "        vertical-align: middle;\n",
       "    }\n",
       "\n",
       "    .dataframe tbody tr th {\n",
       "        vertical-align: top;\n",
       "    }\n",
       "\n",
       "    .dataframe thead th {\n",
       "        text-align: right;\n",
       "    }\n",
       "</style>\n",
       "<table border=\"1\" class=\"dataframe\">\n",
       "  <thead>\n",
       "    <tr style=\"text-align: right;\">\n",
       "      <th></th>\n",
       "      <th>1st</th>\n",
       "      <th>2nd</th>\n",
       "      <th>3rd</th>\n",
       "      <th>4th</th>\n",
       "      <th>Oitavas</th>\n",
       "      <th>Quartas</th>\n",
       "      <th>Semis</th>\n",
       "      <th>Final</th>\n",
       "      <th>Campeão</th>\n",
       "    </tr>\n",
       "    <tr>\n",
       "      <th>Seleção</th>\n",
       "      <th></th>\n",
       "      <th></th>\n",
       "      <th></th>\n",
       "      <th></th>\n",
       "      <th></th>\n",
       "      <th></th>\n",
       "      <th></th>\n",
       "      <th></th>\n",
       "      <th></th>\n",
       "    </tr>\n",
       "  </thead>\n",
       "  <tbody>\n",
       "    <tr>\n",
       "      <th>Brasil</th>\n",
       "      <td>0.408</td>\n",
       "      <td>0.264</td>\n",
       "      <td>0.210</td>\n",
       "      <td>0.118</td>\n",
       "      <td>0.672</td>\n",
       "      <td>0.404</td>\n",
       "      <td>0.249</td>\n",
       "      <td>0.142</td>\n",
       "      <td>0.080</td>\n",
       "    </tr>\n",
       "    <tr>\n",
       "      <th>Argentina</th>\n",
       "      <td>0.393</td>\n",
       "      <td>0.282</td>\n",
       "      <td>0.189</td>\n",
       "      <td>0.136</td>\n",
       "      <td>0.675</td>\n",
       "      <td>0.403</td>\n",
       "      <td>0.236</td>\n",
       "      <td>0.137</td>\n",
       "      <td>0.079</td>\n",
       "    </tr>\n",
       "    <tr>\n",
       "      <th>Bélgica</th>\n",
       "      <td>0.381</td>\n",
       "      <td>0.275</td>\n",
       "      <td>0.197</td>\n",
       "      <td>0.147</td>\n",
       "      <td>0.656</td>\n",
       "      <td>0.359</td>\n",
       "      <td>0.194</td>\n",
       "      <td>0.124</td>\n",
       "      <td>0.069</td>\n",
       "    </tr>\n",
       "    <tr>\n",
       "      <th>Inglaterra</th>\n",
       "      <td>0.344</td>\n",
       "      <td>0.251</td>\n",
       "      <td>0.222</td>\n",
       "      <td>0.183</td>\n",
       "      <td>0.595</td>\n",
       "      <td>0.349</td>\n",
       "      <td>0.187</td>\n",
       "      <td>0.106</td>\n",
       "      <td>0.063</td>\n",
       "    </tr>\n",
       "    <tr>\n",
       "      <th>França</th>\n",
       "      <td>0.370</td>\n",
       "      <td>0.262</td>\n",
       "      <td>0.225</td>\n",
       "      <td>0.143</td>\n",
       "      <td>0.632</td>\n",
       "      <td>0.340</td>\n",
       "      <td>0.179</td>\n",
       "      <td>0.091</td>\n",
       "      <td>0.058</td>\n",
       "    </tr>\n",
       "  </tbody>\n",
       "</table>\n",
       "</div>"
      ],
      "text/plain": [
       "              1st    2nd    3rd    4th  Oitavas  Quartas  Semis  Final  \\\n",
       "Seleção                                                                  \n",
       "Brasil      0.408  0.264  0.210  0.118    0.672    0.404  0.249  0.142   \n",
       "Argentina   0.393  0.282  0.189  0.136    0.675    0.403  0.236  0.137   \n",
       "Bélgica     0.381  0.275  0.197  0.147    0.656    0.359  0.194  0.124   \n",
       "Inglaterra  0.344  0.251  0.222  0.183    0.595    0.349  0.187  0.106   \n",
       "França      0.370  0.262  0.225  0.143    0.632    0.340  0.179  0.091   \n",
       "\n",
       "            Campeão  \n",
       "Seleção              \n",
       "Brasil        0.080  \n",
       "Argentina     0.079  \n",
       "Bélgica       0.069  \n",
       "Inglaterra    0.063  \n",
       "França        0.058  "
      ]
     },
     "execution_count": 18,
     "metadata": {},
     "output_type": "execute_result"
    }
   ],
   "source": [
    "resultado_da_copa.head()"
   ]
  },
  {
   "attachments": {},
   "cell_type": "markdown",
   "metadata": {},
   "source": [
    "Aqui teremos o resultado final geral da simualção que foi feita por você. Verifique a pasta onde foi executada esse arquivo .ipynb."
   ]
  },
  {
   "cell_type": "code",
   "execution_count": 17,
   "metadata": {},
   "outputs": [],
   "source": [
    "resultado_da_copa.to_csv('resultado.csv')"
   ]
  }
 ],
 "metadata": {
  "kernelspec": {
   "display_name": "base",
   "language": "python",
   "name": "python3"
  },
  "language_info": {
   "codemirror_mode": {
    "name": "ipython",
    "version": 3
   },
   "file_extension": ".py",
   "mimetype": "text/x-python",
   "name": "python",
   "nbconvert_exporter": "python",
   "pygments_lexer": "ipython3",
   "version": "3.9.12"
  },
  "orig_nbformat": 4,
  "vscode": {
   "interpreter": {
    "hash": "d3f59539e1da42429ed53d87a4e73550a1eebf9f1ee8157d19eb35d3f0ca8cb8"
   }
  }
 },
 "nbformat": 4,
 "nbformat_minor": 2
}
