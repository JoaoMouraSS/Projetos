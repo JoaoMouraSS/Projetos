{
 "cells": [
  {
   "cell_type": "code",
   "execution_count": 1,
   "metadata": {},
   "outputs": [],
   "source": [
    "import pandas as pd\n",
    "import numpy as np\n",
    "import random\n",
    "from scipy.stats import poisson"
   ]
  },
  {
   "cell_type": "code",
   "execution_count": 2,
   "metadata": {},
   "outputs": [],
   "source": [
    "df_selecao = pd.read_excel('DadosCopaDoMundoQatar2022.xlsx', sheet_name = 'selecoes',index_col='Seleção')\n",
    "df_jogos  = pd.read_excel('DadosCopaDoMundoQatar2022.xlsx', sheet_name='jogos')"
   ]
  },
  {
   "cell_type": "code",
   "execution_count": 3,
   "metadata": {},
   "outputs": [],
   "source": [
    "f = df_selecao[\"PontosRankingFIFA\"]\n",
    "\n",
    "a, b = min(f), max(f) \n",
    "fa, fb = 0.15, 1 \n",
    "b1 = (fb - fa)/(b-a) \n",
    "b0 = fb - b*b1\n",
    "forca = b0 + b1*f"
   ]
  },
  {
   "cell_type": "code",
   "execution_count": 4,
   "metadata": {},
   "outputs": [],
   "source": [
    "def media_equipes(selecao1, selecao2):\n",
    "    forca_casa = forca[f'{selecao1}']\n",
    "    forca_fora = forca[f'{selecao2}']\n",
    "    expectativa_de_gols = 2.72\n",
    "    lambda_casa = expectativa_de_gols*forca_casa/(forca_casa + forca_fora)\n",
    "    lambda_fora = expectativa_de_gols*forca_fora/(forca_fora + forca_fora)\n",
    "    return [lambda_casa, lambda_fora]\n",
    "\n",
    "def distribuicao(media):\n",
    "    probs = []\n",
    "    for i in range(7):\n",
    "        probs.append(poisson.pmf(i,media))\n",
    "    probs.append(1-sum(probs))\n",
    "    return pd.Series(probs, index = ['0', '1', '2', '3', '4', '5', '6', '7+'])\n",
    "\n",
    "def qtd_gols(casa,fora):\n",
    "    lambda_casa, lambda_fora = media_equipes(selecao1=casa,selecao2=fora)\n",
    "    gols_casa = np.random.poisson(lam=lambda_casa,size=1)\n",
    "    gols_fora = np.random.poisson(lam=lambda_fora,size=1)\n",
    "    saldo_time_casa = gols_casa - gols_fora\n",
    "    saldo_time_fora = -saldo_time_casa\n",
    "    placar = f'{saldo_time_casa}x{saldo_time_fora}'\n",
    "    return [gols_casa, gols_fora, saldo_time_casa, saldo_time_fora, palcar]\n",
    "\n",
    "\n",
    "def probabilidade(selecao1,selecao2):\n",
    "    lambda_casa, lambda_fora = media_equipes(selecao1=selecao1, selecao2=selecao2)\n",
    "    dist1, dist2 = distribuicao(media = lambda_casa), distribuicao(media= lambda_fora)\n",
    "    matriz = np.outer(dist1, dist2)\n",
    "    vitoria = np.tril(matriz).sum()-np.trace(matriz)    #Soma a triangulo inferior\n",
    "    derrota = np.triu(matriz).sum()-np.trace(matriz)    #Soma a triangulo superior\n",
    "    empate = 1 - (vitoria + derrota)\n",
    "    probs = np.around([vitoria, empate , derrota], 3)\n",
    "    \n",
    "    probsp = [f'{100*i:.1f}%' for i in probs]\n",
    "\n",
    "    nomes = ['0', '1', '2', '3', '4', '5', '6', '7+']\n",
    "    matriz = pd.DataFrame(matriz, columns = nomes, index = nomes)\n",
    "    matriz.index = pd.MultiIndex.from_product([[selecao1], matriz.index])\n",
    "    matriz.columns = pd.MultiIndex.from_product([[selecao2], matriz.columns]) \n",
    "\n",
    "    output = {'seleção1': selecao1, 'seleção2': selecao2, \n",
    "             'f1': forca[selecao1], 'f2': forca[selecao2], \n",
    "             'media1': lambda_casa, 'media2': lambda_fora, \n",
    "             'probabilidades': probsp, 'matriz': matriz}\n",
    "    \n",
    "    return output"
   ]
  },
  {
   "cell_type": "code",
   "execution_count": 5,
   "metadata": {},
   "outputs": [],
   "source": [
    "df_jogos['Vitoria'] = None\n",
    "df_jogos['Empate'] = None\n",
    "df_jogos['Derrota'] = None\n",
    "\n",
    "for i in range(len(df_jogos)):\n",
    "    s1 = df_jogos['seleção1'][i]\n",
    "    s2 = df_jogos['seleção2'][i]\n",
    "    v,e,d = probabilidade(selecao1=s1, selecao2=s2)['probabilidades']\n",
    "    df_jogos.at[i,'Vitoria'] = v\n",
    "    df_jogos.at[i,'Empate'] = e\n",
    "    df_jogos.at[i,'Derrota'] = d"
   ]
  },
  {
   "cell_type": "code",
   "execution_count": 8,
   "metadata": {},
   "outputs": [],
   "source": [
    "df_jogos.to_excel('jogos.xlsx')"
   ]
  }
 ],
 "metadata": {
  "kernelspec": {
   "display_name": "Python 3.9.12 ('base')",
   "language": "python",
   "name": "python3"
  },
  "language_info": {
   "codemirror_mode": {
    "name": "ipython",
    "version": 3
   },
   "file_extension": ".py",
   "mimetype": "text/x-python",
   "name": "python",
   "nbconvert_exporter": "python",
   "pygments_lexer": "ipython3",
   "version": "3.9.12"
  },
  "orig_nbformat": 4,
  "vscode": {
   "interpreter": {
    "hash": "d3f59539e1da42429ed53d87a4e73550a1eebf9f1ee8157d19eb35d3f0ca8cb8"
   }
  }
 },
 "nbformat": 4,
 "nbformat_minor": 2
}
