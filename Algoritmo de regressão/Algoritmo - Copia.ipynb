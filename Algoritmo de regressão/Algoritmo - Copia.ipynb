{
 "cells": [
  {
   "cell_type": "code",
   "execution_count": null,
   "metadata": {},
   "outputs": [],
   "source": [
    "# Bibliotecas\n",
    "import numpy as np\n",
    "import pandas as pd\n",
    "import seaborn as sns\n",
    "import matplotlib.pyplot as plt"
   ]
  },
  {
   "cell_type": "markdown",
   "metadata": {},
   "source": [
    "# As Funções "
   ]
  },
  {
   "cell_type": "code",
   "execution_count": null,
   "metadata": {},
   "outputs": [],
   "source": [
    "def RegressaoLinear(df):\n",
    "    # Criando um DataFrame para preencher com as novas informações\n",
    "    new = pd.DataFrame()\n",
    "\n",
    "    # Media dos itens\n",
    "    media_x = df['x'].mean()\n",
    "    media_y = df['y'].mean()\n",
    "\n",
    "    # O algoritmo:\n",
    "    x = [((df['x'][i]) - media_x) for i in range(len(df))]\n",
    "    x_ao_q = [i**2 for i in x]\n",
    "    xY = x*df['y']\n",
    "\n",
    "    soma_x_quadrado = sum(x_ao_q)\n",
    "    soma_xY = sum(xY)\n",
    "\n",
    "    a = media_y\n",
    "    b = soma_xY/soma_x_quadrado\n",
    "\n",
    "    novo_a = a-(b*media_x)\n",
    "\n",
    "    # Preechendo o novo DataFrame\n",
    "    new['x'] = df['x']\n",
    "    new['y'] = df['y']\n",
    "    new['xzinho'] = x\n",
    "    new['x_ao_q'] = x_ao_q\n",
    "    new['xY'] = xY\n",
    "    display(new)\n",
    "\n",
    "    # Para apresentação\n",
    "    x_sum = sum(df['x'])\n",
    "    y_sum = sum(df['y'])\n",
    "    x_medio = df['x'].mean()\n",
    "    y_medio = df['y'].mean()\n",
    "\n",
    "    print(f'Elemento A = {a}; Elemento B = {b}')\n",
    "    print(' ')\n",
    "    print(f'Médias: x = {x_medio}; y = {y_medio}')\n",
    "    print(' ')\n",
    "    print(f'Somatórios: x = {x_sum}; y={y_sum}, x² = {sum(x_ao_q)}; xY = {sum(xY)}')\n",
    "    print(' ')\n",
    "    print (f'A expressão final será: {novo_a} + {b}x')"
   ]
  },
  {
   "cell_type": "code",
   "execution_count": null,
   "metadata": {},
   "outputs": [],
   "source": [
    "def RegressaoPotencial(df):\n",
    "    # Criando um DataFrame para preencher com as novas informações\n",
    "    new = pd.DataFrame()\n",
    "    df_logs = pd.DataFrame()\n",
    "\n",
    "    # Pegando os valores dos logs\n",
    "    log_x = [round(np.log10(i),4) for i in df['x']]\n",
    "    log_y = [round(np.log10(i),4) for i in df['y']]\n",
    "\n",
    "    # Data frame com as informações dos logs\n",
    "    # Na regressão potencial é necessário saber oo log de x e de y, pois é a partir deles que iremos desenvolver os calculos\n",
    "    df_logs['log_x'] = log_x\n",
    "    df_logs['log_y'] = log_y\n",
    "\n",
    "    # Media dos itens\n",
    "    media_x = round(df_logs['log_x'].mean(),4)\n",
    "    media_y = round(df_logs['log_y'].mean(),4)\n",
    "\n",
    "    # O algoritmo:\n",
    "    x = [(log_x[i] - media_x) for i in range(len(df))]\n",
    "    x_ao_q = [round(i**2,4) for i in x]\n",
    "    xY = round(x*df_logs['log_y'],4)\n",
    "\n",
    "    # Preenchendo o DataFrame com as informações\n",
    "    new['x'] = df['x']\n",
    "    new['y'] = df['y']\n",
    "    new['Log X'] = log_x\n",
    "    new['Log Y'] = log_y\n",
    "    new['xzinho'] = x\n",
    "    new['x_ao_q'] = x_ao_q\n",
    "    new['xY'] = xY\n",
    "    display(new)\n",
    "\n",
    "    # Construindo a expressão\n",
    "    a = new['Log Y'].mean()\n",
    "    b = sum(new['xY'])/sum(new['x_ao_q'])\n",
    "    # É necessário fazer o anti-log do elemento A somente quando estamos fazendo uma regressão potencial\n",
    "    anti_log_a = 10**(a - b*media_x)\n",
    "    display(f'A expressão é: y = {round(anti_log_a,4)}x^{round(b,4)}')\n",
    "    display(f'Somatorio: Log x = {sum(log_x)}; Log y = {sum(log_y)}; x² = {round(sum(x_ao_q),4)}; xY = {round(sum(xY),4)}')"
   ]
  },
  {
   "cell_type": "code",
   "execution_count": null,
   "metadata": {},
   "outputs": [],
   "source": [
    "def RegressaoExponencial(df):\n",
    "    \n",
    "    # Criando um DataFrame para preencher com as novas informações\n",
    "    new = pd.DataFrame()\n",
    "    df_logs = pd.DataFrame()\n",
    "\n",
    "    # Pegando os valores dos logs\n",
    "    log_y = [round(np.log10(i),4) for i in df['y']]\n",
    "\n",
    "    # Data frame com as informações dos logs\n",
    "    # Na regressão potencial é necessário saber, somente, o log de y\n",
    "    df_logs['log_y'] = log_y\n",
    "\n",
    "    # Media dos itens\n",
    "    media_x = round(df['x'].mean(),4)\n",
    "\n",
    "    # O algoritmo:\n",
    "    x = [(df['x'][i] - media_x) for i in range(len(df))]\n",
    "    x_ao_q = [round(i**2,4) for i in x]\n",
    "    xY = round(x*df_logs['log_y'],4)\n",
    "\n",
    "    # Preenchendo o DataFrame com as informações\n",
    "    new['x'] = df['x']\n",
    "    new['y'] = df['y']\n",
    "    new['Log Y'] = log_y\n",
    "    new['xzinho'] = x\n",
    "    new['x_ao_q'] = x_ao_q\n",
    "    new['xY'] = xY\n",
    "\n",
    "    display(new)\n",
    "\n",
    "    # Construindo a expressão\n",
    "    a = new['Log Y'].mean()\n",
    "    b = sum(new['xY'])/sum(new['x_ao_q'])\n",
    "\n",
    "    # É necessário fazer o anti-log do elemento A somente quando estamos fazendo uma regressão potencial\n",
    "    anti_log_a = 10**(a - b*media_x)\n",
    "    anti_log_b = 10**b\n",
    "    display(f'A expressão é: y = {round(anti_log_a,4)}x{round(anti_log_b,4)}^x')\n",
    "\n",
    "    soma_x = df['x'].sum()\n",
    "    display(f'Somatorio: X = {soma_x}; Log y = {sum(log_y)}; x² = {round(sum(x_ao_q),4)}; xY = {round(sum(xY),4)}')"
   ]
  },
  {
   "cell_type": "markdown",
   "metadata": {},
   "source": [
    "# Data Frames para testar"
   ]
  },
  {
   "cell_type": "code",
   "execution_count": null,
   "metadata": {},
   "outputs": [],
   "source": [
    "df_1 = pd.DataFrame()\n",
    "df_1['x'] = [20,40,40,30,50,60]\n",
    "df_1['y'] = [30, 50,60,40,50,55]\n",
    "\n",
    "RegressaoLinear(df_1)"
   ]
  },
  {
   "cell_type": "code",
   "execution_count": null,
   "metadata": {},
   "outputs": [],
   "source": [
    "df_2 = pd.DataFrame()\n",
    "df_2['x'] = [160,200,238,250,280,325,400,455,500]\n",
    "df_2['y'] = [50,57,66,68,70,74,77,79,80]"
   ]
  },
  {
   "cell_type": "code",
   "execution_count": null,
   "metadata": {},
   "outputs": [],
   "source": [
    "df_3 = pd.DataFrame()\n",
    "df_3['x'] = [20,40,30,50,60]\n",
    "df_3['y'] = [30,50,60,40,50]"
   ]
  },
  {
   "cell_type": "markdown",
   "metadata": {},
   "source": [
    "# Exercicio para entregar"
   ]
  },
  {
   "cell_type": "code",
   "execution_count": null,
   "metadata": {},
   "outputs": [],
   "source": [
    "# Questão 1\n",
    "df_q1 = pd.DataFrame()\n",
    "df_q1['x'] = [1,2,3,4,5,6]\n",
    "df_q1['y'] = [112,149,238,354,580,876]\n",
    "\n",
    "RegressaoExponencial(df_q1)"
   ]
  },
  {
   "cell_type": "code",
   "execution_count": null,
   "metadata": {},
   "outputs": [],
   "source": [
    "# Questão 2\n",
    "df_q2 = pd.DataFrame()\n",
    "df_q2['x'] = [1,2,3,4,5,6,7,8,9]\n",
    "df_q2['y'] = [83,81.3,80.7,79,78.2,77.5,77,76.9,76.9]\n",
    "\n",
    "RegressaoPotencial(df_q2)"
   ]
  },
  {
   "cell_type": "markdown",
   "metadata": {},
   "source": [
    "# Questões da prova"
   ]
  },
  {
   "cell_type": "code",
   "execution_count": null,
   "metadata": {},
   "outputs": [],
   "source": []
  }
 ],
 "metadata": {
  "kernelspec": {
   "display_name": "Python 3.9.12 ('base')",
   "language": "python",
   "name": "python3"
  },
  "language_info": {
   "codemirror_mode": {
    "name": "ipython",
    "version": 3
   },
   "file_extension": ".py",
   "mimetype": "text/x-python",
   "name": "python",
   "nbconvert_exporter": "python",
   "pygments_lexer": "ipython3",
   "version": "3.9.12"
  },
  "orig_nbformat": 4,
  "vscode": {
   "interpreter": {
    "hash": "d3f59539e1da42429ed53d87a4e73550a1eebf9f1ee8157d19eb35d3f0ca8cb8"
   }
  }
 },
 "nbformat": 4,
 "nbformat_minor": 2
}
