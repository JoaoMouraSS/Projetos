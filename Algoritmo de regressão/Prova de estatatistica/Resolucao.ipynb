{
 "cells": [
  {
   "cell_type": "code",
   "execution_count": null,
   "metadata": {},
   "outputs": [],
   "source": [
    "import pandas as pd\n",
    "import numpy as np\n",
    "import seaborn as sns"
   ]
  },
  {
   "cell_type": "code",
   "execution_count": null,
   "metadata": {},
   "outputs": [],
   "source": [
    "# Algoritmos\n",
    "\n",
    "def RegressaoLinear(df):\n",
    "    x = df['x']\n",
    "    y = df['y']\n",
    "\n",
    "    x_media = x.mean()\n",
    "    y_media = y.mean()\n",
    "\n",
    "    xzinho = [i - x_media for i in x]\n",
    "    xzinho_ao_quad = [i**2 for i in xzinho]\n",
    "    xY = xzinho*y\n",
    "    \n",
    "    sum_xzinho_quad = sum(xzinho_ao_quad)\n",
    "    sum_xY = sum(xY)\n",
    "\n",
    "    a = y_media\n",
    "    b = sum_xY/sum_xzinho_quad\n",
    "    a = a + (b*(-x_media))\n",
    "    \n",
    "    y_pred = [a + (b*i) for i in x]\n",
    "    \n",
    "    print(f'A função linear será: {a} + {b}x')\n",
    "    print(' ')\n",
    "    print(f'media x = {x_media}')\n",
    "    print(f'media y = {y_media}')\n",
    "    print(f'sum de x = {sum(x)}')\n",
    "    print(f'sum de y = {sum(y)}')\n",
    "    print(f'sum de xzinho ao quad = {sum_xzinho_quad}')\n",
    "    print(f'sum xY = {sum_xY}')\n",
    "    print(f'elemento A = {a}')\n",
    "    print(f'elemento B = {b}')\n",
    "    print(' ')\n",
    "\n",
    "    tabela = pd.DataFrame()\n",
    "    tabela['X'] = x\n",
    "    tabela['Y'] = y\n",
    "    tabela['x'] = xzinho\n",
    "    tabela['x²'] = xzinho_ao_quad\n",
    "    tabela['xY'] = xY\n",
    "    tabela['Y Estimativas'] = y_pred\n",
    "\n",
    "    display(tabela)\n",
    "    return tabela\n",
    "\n",
    "def RegressaoPotencia(df):\n",
    "    x = df['x']\n",
    "    y = df['y']\n",
    "\n",
    "    log_x = [round(np.log10(i),4) for i in x]\n",
    "    log_y = [round(np.log10(i),4) for i in y]\n",
    "\n",
    "    df_logs = pd.DataFrame()\n",
    "    df_logs['log_x'] = log_x\n",
    "    df_logs['log_y'] = log_y\n",
    "\n",
    "    x_media = df_logs['log_x'].mean()\n",
    "    y_media = df_logs['log_y'].mean()\n",
    "\n",
    "    xzinho = [i - x_media for i in log_x]\n",
    "    xzinho_ao_quad = [i**2 for i in xzinho]\n",
    "    xY = xzinho*df_logs['log_y']\n",
    "    \n",
    "    sum_xzinho_quad = sum(xzinho_ao_quad)\n",
    "    sum_xY = sum(xY)\n",
    "\n",
    "    a = y_media\n",
    "    b = sum_xY/sum_xzinho_quad\n",
    "    a = 10**(a + (b*(-x_media)))\n",
    "    \n",
    "    y_pred = [a * (i**(b)) for i in x]\n",
    "    \n",
    "    print(f'A função linear será: {round(a,4)}x^{round(b,4)}')\n",
    "    print(' ')\n",
    "    print(f'media x = {x_media}')\n",
    "    print(f'media y = {y_media}')\n",
    "    print(f'sum de x = {sum(log_x)}')\n",
    "    print(f'sum de y = {sum(log_y)}')\n",
    "    print(f'sum de xzinho ao quad = {sum_xzinho_quad}')\n",
    "    print(f'sum xY = {sum_xY}')\n",
    "    print(f'elemento A = {a}')\n",
    "    print(f'elemento B = {b}')\n",
    "    print(' ')\n",
    "\n",
    "    tabela = pd.DataFrame()\n",
    "    tabela['X'] = x\n",
    "    tabela['Y'] = y\n",
    "    tabela['log_x'] = log_x\n",
    "    tabela['log_y'] = log_y\n",
    "    tabela['x'] = xzinho\n",
    "    tabela['x²'] = xzinho_ao_quad\n",
    "    tabela['xY'] = xY\n",
    "    tabela['Y Estimativas'] = y_pred\n",
    "\n",
    "    display(tabela)\n",
    "    return tabela\n",
    "\n",
    "def RegressaoExponencial(df):\n",
    "    x = df['x']\n",
    "    y = df['y']\n",
    "\n",
    "    log_y = [round(np.log10(i),4) for i in y]\n",
    "\n",
    "    df_logs = pd.DataFrame()\n",
    "    df_logs['log_y'] = log_y\n",
    "\n",
    "    x_media = x.mean()\n",
    "    y_media = df_logs['log_y'].mean()\n",
    "\n",
    "    xzinho = [i - x_media for i in x]\n",
    "    xzinho_ao_quad = [i**2 for i in xzinho]\n",
    "    xY = xzinho*df_logs['log_y']\n",
    "    \n",
    "    sum_xzinho_quad = sum(xzinho_ao_quad)\n",
    "    sum_xY = sum(xY)\n",
    "\n",
    "    a = y_media\n",
    "    b = sum_xY/sum_xzinho_quad\n",
    "    anti_log_a = 10**(a + (b*(-x_media)))\n",
    "    anti_log_b = 10**b\n",
    "    \n",
    "    y_pred = [anti_log_a * (anti_log_b**(i)) for i in x]\n",
    "    \n",
    "    print(f'A função linear será: {round(anti_log_a,4)}*{round(anti_log_b,4)}^x')\n",
    "    print(' ')\n",
    "    print(f'media x = {x_media}')\n",
    "    print(f'media y = {y_media}')\n",
    "    print(f'sum de x = {sum(x)}')\n",
    "    print(f'sum de y = {sum(log_y)}')\n",
    "    print(f'sum de xzinho ao quad = {sum_xzinho_quad}')\n",
    "    print(f'sum xY = {sum_xY}')\n",
    "    print(f'elemento A = {a}')\n",
    "    print(f'elemento B = {b}')\n",
    "    print(f'elemento A com o antilog= {anti_log_a}')\n",
    "    print(f'elemento B com o antilog= {anti_log_b}')\n",
    "    print(' ')\n",
    "\n",
    "    tabela = pd.DataFrame()\n",
    "    tabela['X'] = x\n",
    "    tabela['Y'] = y\n",
    "    tabela['log_y'] = log_y\n",
    "    tabela['x'] = xzinho\n",
    "    tabela['x²'] = xzinho_ao_quad\n",
    "    tabela['xY'] = xY\n",
    "    tabela['Y Estimativas'] = y_pred\n",
    "\n",
    "    display(tabela)\n",
    "    return tabela"
   ]
  },
  {
   "cell_type": "code",
   "execution_count": null,
   "metadata": {},
   "outputs": [],
   "source": [
    "df = pd.read_csv('Sem Modificar.csv')"
   ]
  },
  {
   "cell_type": "code",
   "execution_count": null,
   "metadata": {},
   "outputs": [],
   "source": [
    "df.drop(['Taxa de desemprego','IPCA','Mês'], axis=1, inplace=True)"
   ]
  },
  {
   "cell_type": "code",
   "execution_count": null,
   "metadata": {},
   "outputs": [],
   "source": [
    "df.rename(columns={'Massa Salarial':'x','Goiás':'y'}, inplace=True)"
   ]
  },
  {
   "cell_type": "code",
   "execution_count": null,
   "metadata": {},
   "outputs": [],
   "source": [
    "df['x'].replace(',','.', inplace=True)"
   ]
  },
  {
   "cell_type": "code",
   "execution_count": null,
   "metadata": {},
   "outputs": [],
   "source": [
    "tabela_Linear = RegressaoLinear(df=df)"
   ]
  },
  {
   "cell_type": "code",
   "execution_count": null,
   "metadata": {},
   "outputs": [],
   "source": [
    "tabela_potencia = RegressaoPotencia(df=df)"
   ]
  },
  {
   "cell_type": "code",
   "execution_count": null,
   "metadata": {},
   "outputs": [],
   "source": [
    "y_ao_q = [(i - tabela_potencia['log_y'].mean())**2 for i in tabela_potencia['log_y']]\n",
    "pd.DataFrame(y_ao_q).sum()"
   ]
  },
  {
   "cell_type": "code",
   "execution_count": null,
   "metadata": {},
   "outputs": [],
   "source": [
    "sns.scatterplot(x=df['x'],y=df['y'], data=df, hue=df['x'])"
   ]
  },
  {
   "cell_type": "code",
   "execution_count": 83,
   "metadata": {},
   "outputs": [
    {
     "data": {
      "text/plain": [
       "162.4"
      ]
     },
     "execution_count": 83,
     "metadata": {},
     "output_type": "execute_result"
    }
   ],
   "source": [
    "df['y'].max()"
   ]
  },
  {
   "cell_type": "code",
   "execution_count": null,
   "metadata": {},
   "outputs": [],
   "source": []
  }
 ],
 "metadata": {
  "kernelspec": {
   "display_name": "base",
   "language": "python",
   "name": "python3"
  },
  "language_info": {
   "codemirror_mode": {
    "name": "ipython",
    "version": 3
   },
   "file_extension": ".py",
   "mimetype": "text/x-python",
   "name": "python",
   "nbconvert_exporter": "python",
   "pygments_lexer": "ipython3",
   "version": "3.9.12"
  },
  "orig_nbformat": 4,
  "vscode": {
   "interpreter": {
    "hash": "d3f59539e1da42429ed53d87a4e73550a1eebf9f1ee8157d19eb35d3f0ca8cb8"
   }
  }
 },
 "nbformat": 4,
 "nbformat_minor": 2
}
